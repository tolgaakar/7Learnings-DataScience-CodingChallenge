{
  "nbformat": 4,
  "nbformat_minor": 0,
  "metadata": {
    "kernelspec": {
      "display_name": "Python 3",
      "language": "python",
      "name": "python3"
    },
    "language_info": {
      "codemirror_mode": {
        "name": "ipython",
        "version": 3
      },
      "file_extension": ".py",
      "mimetype": "text/x-python",
      "name": "python",
      "nbconvert_exporter": "python",
      "pygments_lexer": "ipython3",
      "version": "3.8.7"
    },
    "colab": {
      "name": "7L_Coding_Challenge.ipynb",
      "provenance": [],
      "collapsed_sections": []
    },
    "accelerator": "GPU"
  },
  "cells": [
    {
      "cell_type": "code",
      "metadata": {
        "id": "9YzW0Yj5e9FI"
      },
      "source": [
        "# To make sure that we use the same packages on different computers\n",
        "! pip install -r requirements.txt"
      ],
      "execution_count": 1,
      "outputs": []
    },
    {
      "cell_type": "code",
      "metadata": {
        "id": "1lE51pLmbjxZ"
      },
      "source": [
        "%load_ext google.cloud.bigquery"
      ],
      "execution_count": 2,
      "outputs": []
    },
    {
      "cell_type": "markdown",
      "metadata": {
        "id": "TQOlU2A7bjxc"
      },
      "source": [
        "# \"Will it snow tomorrow?\" - The time traveler asked\n",
        "**The following dataset contains climate information form over 9000 stations accross the world. The overall goal of these subtasks will be to predict whether it will snow tomorrow 11 years ago. So if today is 2021.02.15 then the weather we want to forecast is for the date 2010.02.16. You are suppsed to solve the tasks using Big Query, which can be used in the Jupyter Notebook like it is shown in the following cell. For further information and how to used BigQuery in Jupyter Notebook refer to the Google Docs.**\n",
        "\n",
        "**The goal of this test is, to test your coding knowledge in Python, BigQuery and Pandas as well as your understanding of Data Science. If you get stuck at the first part, you can use the replacement data provided in the second part**"
      ]
    },
    {
      "cell_type": "markdown",
      "metadata": {
        "id": "xIjhvbDz0-Db"
      },
      "source": [
        "My proposed solution to this problem will be as follows in broad terms:\n",
        "\n",
        "> Step 1: Retrieve and preprocess the data\n",
        "\n",
        "> Step 2: Train a classifier that can predict whether it will snow or not by looking at relevant features\n",
        "\n",
        "> Step 3: Train a Recurrent Neural Network (RNN) model to forecast the necessary inputs for the classifier\n",
        "\n",
        "> Step 4: Predict the snow fall for the target day combining the RNN model and the classifier\n",
        "\n",
        "\n"
      ]
    },
    {
      "cell_type": "markdown",
      "metadata": {
        "id": "Sp7cJestJ3Jw"
      },
      "source": [
        "*P.S.: This notebook demonstrates the pipeline for solving this problem. Other experimentations and alternative solutions are not included for a better reading experience*"
      ]
    },
    {
      "cell_type": "markdown",
      "metadata": {
        "id": "1ix32xHIbjxd"
      },
      "source": [
        "## Part 1"
      ]
    },
    {
      "cell_type": "markdown",
      "metadata": {
        "id": "9EmC7673vSIQ"
      },
      "source": [
        "Let's start with the necessary imports"
      ]
    },
    {
      "cell_type": "code",
      "metadata": {
        "id": "S6u4Orsyjupu"
      },
      "source": [
        "import numpy as np\n",
        "import pandas as pd\n",
        "import pickle\n",
        "import datetime\n",
        "from datetime import timedelta\n",
        "import tensorflow as tf\n",
        "from tensorflow import keras\n",
        "from tensorflow.keras import layers\n",
        "from keras.models import load_model\n",
        "from keras.layers import Dense, Input, LSTM\n",
        "from keras.models import Model\n",
        "from keras.callbacks import ModelCheckpoint\n",
        "from sklearn.linear_model import RidgeClassifierCV\n",
        "from sklearn.preprocessing import LabelEncoder, MinMaxScaler, StandardScaler\n",
        "from sklearn.feature_selection import f_classif, SelectKBest\n",
        "from sklearn.metrics import accuracy_score, classification_report, confusion_matrix\n",
        "from sklearn.utils import class_weight\n",
        "import seaborn as sns\n",
        "import matplotlib.pyplot as plt\n",
        "%matplotlib inline"
      ],
      "execution_count": 3,
      "outputs": []
    },
    {
      "cell_type": "markdown",
      "metadata": {
        "id": "EcYM5mk1bjxe"
      },
      "source": [
        "### 1. Task\n",
        "**Change the date format to 'YYYY-MM-DD' and select the data from 2006 till 2010 for station numbers including and between 725300 and 726300 , and save it as a pandas dataframe. Note the maximum year available is 2010.**"
      ]
    },
    {
      "cell_type": "markdown",
      "metadata": {
        "id": "nDfltPtKbjxe"
      },
      "source": [
        "**Comments: testing simple logical conditining, knowledge about sql syntax, and ability to find in doc how to store as df variable**"
      ]
    },
    {
      "cell_type": "markdown",
      "metadata": {
        "id": "t9t5K3C9vYw6"
      },
      "source": [
        "First, we need to authenticate the user to access Google Cloud SDK, so that we can use the BigQuery API within Google Colab Notebooks"
      ]
    },
    {
      "cell_type": "code",
      "metadata": {
        "colab": {
          "base_uri": "https://localhost:8080/"
        },
        "id": "QG35dKG-6BXB",
        "outputId": "92c1b110-2c4a-4315-d552-d0f8bee9a1f8"
      },
      "source": [
        "from google.colab import auth\n",
        "auth.authenticate_user()\n",
        "print('Authenticated')"
      ],
      "execution_count": 4,
      "outputs": [
        {
          "output_type": "stream",
          "text": [
            "Authenticated\n"
          ],
          "name": "stdout"
        }
      ]
    },
    {
      "cell_type": "code",
      "metadata": {
        "id": "aVl4meqEtvCw"
      },
      "source": [
        "# ID of the project I created on my Google Cloud Console\n",
        "PROJECT_ID = \"l-coding-challenge-309111\" "
      ],
      "execution_count": 5,
      "outputs": []
    },
    {
      "cell_type": "code",
      "metadata": {
        "id": "nq9Oaztcftiv"
      },
      "source": [
        "%%bigquery --project $PROJECT_ID df_task_1\n",
        "SELECT Date(year, month, day) AS date, * EXCEPT (year, month, day)\n",
        "FROM `bigquery-public-data.samples.gsod`\n",
        "WHERE year >= 2006\n",
        "AND station_number BETWEEN 725300 AND 726300\n",
        "ORDER BY station_number, date"
      ],
      "execution_count": 6,
      "outputs": []
    },
    {
      "cell_type": "code",
      "metadata": {
        "colab": {
          "base_uri": "https://localhost:8080/",
          "height": 609
        },
        "id": "76ZoboTxf_Sb",
        "outputId": "eaa2bf88-cdf3-4663-d339-b49682091540"
      },
      "source": [
        "df_task_1"
      ],
      "execution_count": 7,
      "outputs": [
        {
          "output_type": "execute_result",
          "data": {
            "text/html": [
              "<div>\n",
              "<style scoped>\n",
              "    .dataframe tbody tr th:only-of-type {\n",
              "        vertical-align: middle;\n",
              "    }\n",
              "\n",
              "    .dataframe tbody tr th {\n",
              "        vertical-align: top;\n",
              "    }\n",
              "\n",
              "    .dataframe thead th {\n",
              "        text-align: right;\n",
              "    }\n",
              "</style>\n",
              "<table border=\"1\" class=\"dataframe\">\n",
              "  <thead>\n",
              "    <tr style=\"text-align: right;\">\n",
              "      <th></th>\n",
              "      <th>date</th>\n",
              "      <th>station_number</th>\n",
              "      <th>wban_number</th>\n",
              "      <th>mean_temp</th>\n",
              "      <th>num_mean_temp_samples</th>\n",
              "      <th>mean_dew_point</th>\n",
              "      <th>num_mean_dew_point_samples</th>\n",
              "      <th>mean_sealevel_pressure</th>\n",
              "      <th>num_mean_sealevel_pressure_samples</th>\n",
              "      <th>mean_station_pressure</th>\n",
              "      <th>num_mean_station_pressure_samples</th>\n",
              "      <th>mean_visibility</th>\n",
              "      <th>num_mean_visibility_samples</th>\n",
              "      <th>mean_wind_speed</th>\n",
              "      <th>num_mean_wind_speed_samples</th>\n",
              "      <th>max_sustained_wind_speed</th>\n",
              "      <th>max_gust_wind_speed</th>\n",
              "      <th>max_temperature</th>\n",
              "      <th>max_temperature_explicit</th>\n",
              "      <th>min_temperature</th>\n",
              "      <th>min_temperature_explicit</th>\n",
              "      <th>total_precipitation</th>\n",
              "      <th>snow_depth</th>\n",
              "      <th>fog</th>\n",
              "      <th>rain</th>\n",
              "      <th>snow</th>\n",
              "      <th>hail</th>\n",
              "      <th>thunder</th>\n",
              "      <th>tornado</th>\n",
              "    </tr>\n",
              "  </thead>\n",
              "  <tbody>\n",
              "    <tr>\n",
              "      <th>0</th>\n",
              "      <td>2006-01-01</td>\n",
              "      <td>725300</td>\n",
              "      <td>94846</td>\n",
              "      <td>35.099998</td>\n",
              "      <td>24</td>\n",
              "      <td>28.799999</td>\n",
              "      <td>24.0</td>\n",
              "      <td>1011.200012</td>\n",
              "      <td>23.0</td>\n",
              "      <td>NaN</td>\n",
              "      <td>NaN</td>\n",
              "      <td>7.1</td>\n",
              "      <td>24.0</td>\n",
              "      <td>7.2</td>\n",
              "      <td>24.0</td>\n",
              "      <td>13.0</td>\n",
              "      <td>NaN</td>\n",
              "      <td>26.100000</td>\n",
              "      <td>False</td>\n",
              "      <td>None</td>\n",
              "      <td>None</td>\n",
              "      <td>0.00</td>\n",
              "      <td>NaN</td>\n",
              "      <td>False</td>\n",
              "      <td>False</td>\n",
              "      <td>False</td>\n",
              "      <td>False</td>\n",
              "      <td>False</td>\n",
              "      <td>False</td>\n",
              "    </tr>\n",
              "    <tr>\n",
              "      <th>1</th>\n",
              "      <td>2006-01-02</td>\n",
              "      <td>725300</td>\n",
              "      <td>94846</td>\n",
              "      <td>41.200001</td>\n",
              "      <td>24</td>\n",
              "      <td>38.400002</td>\n",
              "      <td>24.0</td>\n",
              "      <td>1004.200012</td>\n",
              "      <td>18.0</td>\n",
              "      <td>NaN</td>\n",
              "      <td>NaN</td>\n",
              "      <td>4.1</td>\n",
              "      <td>24.0</td>\n",
              "      <td>10.8</td>\n",
              "      <td>24.0</td>\n",
              "      <td>16.9</td>\n",
              "      <td>21.0</td>\n",
              "      <td>26.100000</td>\n",
              "      <td>False</td>\n",
              "      <td>None</td>\n",
              "      <td>None</td>\n",
              "      <td>0.04</td>\n",
              "      <td>NaN</td>\n",
              "      <td>False</td>\n",
              "      <td>False</td>\n",
              "      <td>False</td>\n",
              "      <td>False</td>\n",
              "      <td>False</td>\n",
              "      <td>False</td>\n",
              "    </tr>\n",
              "    <tr>\n",
              "      <th>2</th>\n",
              "      <td>2006-01-03</td>\n",
              "      <td>725300</td>\n",
              "      <td>94846</td>\n",
              "      <td>39.500000</td>\n",
              "      <td>24</td>\n",
              "      <td>37.799999</td>\n",
              "      <td>24.0</td>\n",
              "      <td>1011.099976</td>\n",
              "      <td>22.0</td>\n",
              "      <td>NaN</td>\n",
              "      <td>NaN</td>\n",
              "      <td>4.6</td>\n",
              "      <td>24.0</td>\n",
              "      <td>6.4</td>\n",
              "      <td>24.0</td>\n",
              "      <td>14.0</td>\n",
              "      <td>18.1</td>\n",
              "      <td>39.000000</td>\n",
              "      <td>False</td>\n",
              "      <td>None</td>\n",
              "      <td>None</td>\n",
              "      <td>0.36</td>\n",
              "      <td>NaN</td>\n",
              "      <td>False</td>\n",
              "      <td>False</td>\n",
              "      <td>False</td>\n",
              "      <td>False</td>\n",
              "      <td>False</td>\n",
              "      <td>False</td>\n",
              "    </tr>\n",
              "    <tr>\n",
              "      <th>3</th>\n",
              "      <td>2006-01-04</td>\n",
              "      <td>725300</td>\n",
              "      <td>94846</td>\n",
              "      <td>41.599998</td>\n",
              "      <td>24</td>\n",
              "      <td>38.599998</td>\n",
              "      <td>24.0</td>\n",
              "      <td>1008.200012</td>\n",
              "      <td>17.0</td>\n",
              "      <td>NaN</td>\n",
              "      <td>NaN</td>\n",
              "      <td>4.8</td>\n",
              "      <td>24.0</td>\n",
              "      <td>7.8</td>\n",
              "      <td>24.0</td>\n",
              "      <td>15.9</td>\n",
              "      <td>22.0</td>\n",
              "      <td>37.400002</td>\n",
              "      <td>True</td>\n",
              "      <td>None</td>\n",
              "      <td>None</td>\n",
              "      <td>0.00</td>\n",
              "      <td>NaN</td>\n",
              "      <td>True</td>\n",
              "      <td>True</td>\n",
              "      <td>True</td>\n",
              "      <td>True</td>\n",
              "      <td>True</td>\n",
              "      <td>True</td>\n",
              "    </tr>\n",
              "    <tr>\n",
              "      <th>4</th>\n",
              "      <td>2006-01-05</td>\n",
              "      <td>725300</td>\n",
              "      <td>94846</td>\n",
              "      <td>35.599998</td>\n",
              "      <td>24</td>\n",
              "      <td>29.500000</td>\n",
              "      <td>24.0</td>\n",
              "      <td>1014.400024</td>\n",
              "      <td>22.0</td>\n",
              "      <td>NaN</td>\n",
              "      <td>NaN</td>\n",
              "      <td>9.5</td>\n",
              "      <td>24.0</td>\n",
              "      <td>11.9</td>\n",
              "      <td>24.0</td>\n",
              "      <td>16.9</td>\n",
              "      <td>22.9</td>\n",
              "      <td>33.799999</td>\n",
              "      <td>True</td>\n",
              "      <td>None</td>\n",
              "      <td>None</td>\n",
              "      <td>0.02</td>\n",
              "      <td>NaN</td>\n",
              "      <td>False</td>\n",
              "      <td>False</td>\n",
              "      <td>False</td>\n",
              "      <td>False</td>\n",
              "      <td>False</td>\n",
              "      <td>False</td>\n",
              "    </tr>\n",
              "    <tr>\n",
              "      <th>...</th>\n",
              "      <td>...</td>\n",
              "      <td>...</td>\n",
              "      <td>...</td>\n",
              "      <td>...</td>\n",
              "      <td>...</td>\n",
              "      <td>...</td>\n",
              "      <td>...</td>\n",
              "      <td>...</td>\n",
              "      <td>...</td>\n",
              "      <td>...</td>\n",
              "      <td>...</td>\n",
              "      <td>...</td>\n",
              "      <td>...</td>\n",
              "      <td>...</td>\n",
              "      <td>...</td>\n",
              "      <td>...</td>\n",
              "      <td>...</td>\n",
              "      <td>...</td>\n",
              "      <td>...</td>\n",
              "      <td>...</td>\n",
              "      <td>...</td>\n",
              "      <td>...</td>\n",
              "      <td>...</td>\n",
              "      <td>...</td>\n",
              "      <td>...</td>\n",
              "      <td>...</td>\n",
              "      <td>...</td>\n",
              "      <td>...</td>\n",
              "      <td>...</td>\n",
              "    </tr>\n",
              "    <tr>\n",
              "      <th>323796</th>\n",
              "      <td>2010-04-12</td>\n",
              "      <td>726284</td>\n",
              "      <td>94836</td>\n",
              "      <td>44.799999</td>\n",
              "      <td>24</td>\n",
              "      <td>19.900000</td>\n",
              "      <td>24.0</td>\n",
              "      <td>NaN</td>\n",
              "      <td>NaN</td>\n",
              "      <td>983.200012</td>\n",
              "      <td>24.0</td>\n",
              "      <td>10.0</td>\n",
              "      <td>24.0</td>\n",
              "      <td>4.8</td>\n",
              "      <td>24.0</td>\n",
              "      <td>15.9</td>\n",
              "      <td>22.9</td>\n",
              "      <td>28.400000</td>\n",
              "      <td>True</td>\n",
              "      <td>None</td>\n",
              "      <td>None</td>\n",
              "      <td>0.00</td>\n",
              "      <td>NaN</td>\n",
              "      <td>False</td>\n",
              "      <td>False</td>\n",
              "      <td>False</td>\n",
              "      <td>False</td>\n",
              "      <td>False</td>\n",
              "      <td>False</td>\n",
              "    </tr>\n",
              "    <tr>\n",
              "      <th>323797</th>\n",
              "      <td>2010-04-13</td>\n",
              "      <td>726284</td>\n",
              "      <td>94836</td>\n",
              "      <td>45.900002</td>\n",
              "      <td>23</td>\n",
              "      <td>30.100000</td>\n",
              "      <td>23.0</td>\n",
              "      <td>NaN</td>\n",
              "      <td>NaN</td>\n",
              "      <td>984.700012</td>\n",
              "      <td>23.0</td>\n",
              "      <td>10.0</td>\n",
              "      <td>23.0</td>\n",
              "      <td>7.0</td>\n",
              "      <td>23.0</td>\n",
              "      <td>17.1</td>\n",
              "      <td>18.1</td>\n",
              "      <td>37.400002</td>\n",
              "      <td>True</td>\n",
              "      <td>None</td>\n",
              "      <td>None</td>\n",
              "      <td>0.00</td>\n",
              "      <td>NaN</td>\n",
              "      <td>False</td>\n",
              "      <td>False</td>\n",
              "      <td>False</td>\n",
              "      <td>False</td>\n",
              "      <td>False</td>\n",
              "      <td>False</td>\n",
              "    </tr>\n",
              "    <tr>\n",
              "      <th>323798</th>\n",
              "      <td>2010-04-14</td>\n",
              "      <td>726284</td>\n",
              "      <td>94836</td>\n",
              "      <td>51.200001</td>\n",
              "      <td>24</td>\n",
              "      <td>34.000000</td>\n",
              "      <td>24.0</td>\n",
              "      <td>NaN</td>\n",
              "      <td>NaN</td>\n",
              "      <td>982.400024</td>\n",
              "      <td>24.0</td>\n",
              "      <td>10.0</td>\n",
              "      <td>24.0</td>\n",
              "      <td>12.6</td>\n",
              "      <td>24.0</td>\n",
              "      <td>20.0</td>\n",
              "      <td>25.1</td>\n",
              "      <td>41.000000</td>\n",
              "      <td>True</td>\n",
              "      <td>None</td>\n",
              "      <td>None</td>\n",
              "      <td>0.00</td>\n",
              "      <td>NaN</td>\n",
              "      <td>False</td>\n",
              "      <td>False</td>\n",
              "      <td>False</td>\n",
              "      <td>False</td>\n",
              "      <td>False</td>\n",
              "      <td>False</td>\n",
              "    </tr>\n",
              "    <tr>\n",
              "      <th>323799</th>\n",
              "      <td>2010-04-15</td>\n",
              "      <td>726284</td>\n",
              "      <td>94836</td>\n",
              "      <td>59.400002</td>\n",
              "      <td>24</td>\n",
              "      <td>44.500000</td>\n",
              "      <td>24.0</td>\n",
              "      <td>NaN</td>\n",
              "      <td>NaN</td>\n",
              "      <td>972.000000</td>\n",
              "      <td>21.0</td>\n",
              "      <td>10.0</td>\n",
              "      <td>24.0</td>\n",
              "      <td>10.5</td>\n",
              "      <td>24.0</td>\n",
              "      <td>20.0</td>\n",
              "      <td>28.9</td>\n",
              "      <td>48.200001</td>\n",
              "      <td>True</td>\n",
              "      <td>None</td>\n",
              "      <td>None</td>\n",
              "      <td>0.00</td>\n",
              "      <td>NaN</td>\n",
              "      <td>False</td>\n",
              "      <td>False</td>\n",
              "      <td>False</td>\n",
              "      <td>False</td>\n",
              "      <td>False</td>\n",
              "      <td>False</td>\n",
              "    </tr>\n",
              "    <tr>\n",
              "      <th>323800</th>\n",
              "      <td>2010-04-16</td>\n",
              "      <td>726284</td>\n",
              "      <td>94836</td>\n",
              "      <td>56.000000</td>\n",
              "      <td>9</td>\n",
              "      <td>37.200001</td>\n",
              "      <td>9.0</td>\n",
              "      <td>NaN</td>\n",
              "      <td>NaN</td>\n",
              "      <td>967.500000</td>\n",
              "      <td>9.0</td>\n",
              "      <td>10.0</td>\n",
              "      <td>9.0</td>\n",
              "      <td>8.6</td>\n",
              "      <td>9.0</td>\n",
              "      <td>22.0</td>\n",
              "      <td>29.9</td>\n",
              "      <td>46.400002</td>\n",
              "      <td>True</td>\n",
              "      <td>None</td>\n",
              "      <td>None</td>\n",
              "      <td>0.00</td>\n",
              "      <td>NaN</td>\n",
              "      <td>False</td>\n",
              "      <td>False</td>\n",
              "      <td>False</td>\n",
              "      <td>False</td>\n",
              "      <td>False</td>\n",
              "      <td>False</td>\n",
              "    </tr>\n",
              "  </tbody>\n",
              "</table>\n",
              "<p>323801 rows × 29 columns</p>\n",
              "</div>"
            ],
            "text/plain": [
              "              date  station_number  wban_number  ...   hail  thunder  tornado\n",
              "0       2006-01-01          725300        94846  ...  False    False    False\n",
              "1       2006-01-02          725300        94846  ...  False    False    False\n",
              "2       2006-01-03          725300        94846  ...  False    False    False\n",
              "3       2006-01-04          725300        94846  ...   True     True     True\n",
              "4       2006-01-05          725300        94846  ...  False    False    False\n",
              "...            ...             ...          ...  ...    ...      ...      ...\n",
              "323796  2010-04-12          726284        94836  ...  False    False    False\n",
              "323797  2010-04-13          726284        94836  ...  False    False    False\n",
              "323798  2010-04-14          726284        94836  ...  False    False    False\n",
              "323799  2010-04-15          726284        94836  ...  False    False    False\n",
              "323800  2010-04-16          726284        94836  ...  False    False    False\n",
              "\n",
              "[323801 rows x 29 columns]"
            ]
          },
          "metadata": {
            "tags": []
          },
          "execution_count": 7
        }
      ]
    },
    {
      "cell_type": "markdown",
      "metadata": {
        "id": "wXUJ3exZbjxf"
      },
      "source": [
        "### 2. Task \n",
        "**From here want to work with the data from all stations that have information from 2005 till 2010. Select the relevant data.**"
      ]
    },
    {
      "cell_type": "markdown",
      "metadata": {
        "id": "N3WXTRN9xN1Y"
      },
      "source": [
        "Since this query will process a significantly larger chunk of data, we can utilize the BigQuery Storage API instead of the regular BigQuery API, to retrieve the results faster"
      ]
    },
    {
      "cell_type": "code",
      "metadata": {
        "id": "2Z30vaA5bjxf"
      },
      "source": [
        "%%bigquery --use_bqstorage_api --project $PROJECT_ID df\n",
        "SELECT Date(year, month, day) AS date, * EXCEPT (year, month, day)\n",
        "FROM `bigquery-public-data.samples.gsod`\n",
        "WHERE station_number IN (  \n",
        "    SELECT station_number\n",
        "    FROM `bigquery-public-data.samples.gsod`\n",
        "    WHERE year BETWEEN 2005 AND 2010\n",
        "    GROUP BY station_number\n",
        "    HAVING COUNT(DISTINCT year) = 6\n",
        ")\n",
        "AND year BETWEEN 2005 AND 2010\n",
        "ORDER BY station_number, date"
      ],
      "execution_count": 8,
      "outputs": []
    },
    {
      "cell_type": "markdown",
      "metadata": {
        "id": "zRBsZJ-tw9Hn"
      },
      "source": [
        "The `IN` condition in the query ensures that a given station is in the list of stations that have data from 6 distinct years between 2005 and 2010 (i.e. it has all the years in between)"
      ]
    },
    {
      "cell_type": "code",
      "metadata": {
        "colab": {
          "base_uri": "https://localhost:8080/",
          "height": 609
        },
        "id": "CZkuik89iwxJ",
        "outputId": "7867fde2-ed48-408e-9aef-8621ff138a33"
      },
      "source": [
        "df"
      ],
      "execution_count": 9,
      "outputs": [
        {
          "output_type": "execute_result",
          "data": {
            "text/html": [
              "<div>\n",
              "<style scoped>\n",
              "    .dataframe tbody tr th:only-of-type {\n",
              "        vertical-align: middle;\n",
              "    }\n",
              "\n",
              "    .dataframe tbody tr th {\n",
              "        vertical-align: top;\n",
              "    }\n",
              "\n",
              "    .dataframe thead th {\n",
              "        text-align: right;\n",
              "    }\n",
              "</style>\n",
              "<table border=\"1\" class=\"dataframe\">\n",
              "  <thead>\n",
              "    <tr style=\"text-align: right;\">\n",
              "      <th></th>\n",
              "      <th>date</th>\n",
              "      <th>station_number</th>\n",
              "      <th>wban_number</th>\n",
              "      <th>mean_temp</th>\n",
              "      <th>num_mean_temp_samples</th>\n",
              "      <th>mean_dew_point</th>\n",
              "      <th>num_mean_dew_point_samples</th>\n",
              "      <th>mean_sealevel_pressure</th>\n",
              "      <th>num_mean_sealevel_pressure_samples</th>\n",
              "      <th>mean_station_pressure</th>\n",
              "      <th>num_mean_station_pressure_samples</th>\n",
              "      <th>mean_visibility</th>\n",
              "      <th>num_mean_visibility_samples</th>\n",
              "      <th>mean_wind_speed</th>\n",
              "      <th>num_mean_wind_speed_samples</th>\n",
              "      <th>max_sustained_wind_speed</th>\n",
              "      <th>max_gust_wind_speed</th>\n",
              "      <th>max_temperature</th>\n",
              "      <th>max_temperature_explicit</th>\n",
              "      <th>min_temperature</th>\n",
              "      <th>min_temperature_explicit</th>\n",
              "      <th>total_precipitation</th>\n",
              "      <th>snow_depth</th>\n",
              "      <th>fog</th>\n",
              "      <th>rain</th>\n",
              "      <th>snow</th>\n",
              "      <th>hail</th>\n",
              "      <th>thunder</th>\n",
              "      <th>tornado</th>\n",
              "    </tr>\n",
              "  </thead>\n",
              "  <tbody>\n",
              "    <tr>\n",
              "      <th>0</th>\n",
              "      <td>2005-01-01</td>\n",
              "      <td>10010</td>\n",
              "      <td>99999</td>\n",
              "      <td>29.700001</td>\n",
              "      <td>20</td>\n",
              "      <td>26.500000</td>\n",
              "      <td>20.0</td>\n",
              "      <td>969.299988</td>\n",
              "      <td>20.0</td>\n",
              "      <td>968.200012</td>\n",
              "      <td>20.0</td>\n",
              "      <td>3.9</td>\n",
              "      <td>6.0</td>\n",
              "      <td>26.700001</td>\n",
              "      <td>20.0</td>\n",
              "      <td>40.799999</td>\n",
              "      <td>NaN</td>\n",
              "      <td>23.900000</td>\n",
              "      <td>False</td>\n",
              "      <td>NaN</td>\n",
              "      <td>None</td>\n",
              "      <td>0.04</td>\n",
              "      <td>NaN</td>\n",
              "      <td>False</td>\n",
              "      <td>False</td>\n",
              "      <td>False</td>\n",
              "      <td>False</td>\n",
              "      <td>False</td>\n",
              "      <td>False</td>\n",
              "    </tr>\n",
              "    <tr>\n",
              "      <th>1</th>\n",
              "      <td>2005-01-02</td>\n",
              "      <td>10010</td>\n",
              "      <td>99999</td>\n",
              "      <td>27.700001</td>\n",
              "      <td>22</td>\n",
              "      <td>26.100000</td>\n",
              "      <td>22.0</td>\n",
              "      <td>980.500000</td>\n",
              "      <td>22.0</td>\n",
              "      <td>979.400024</td>\n",
              "      <td>22.0</td>\n",
              "      <td>NaN</td>\n",
              "      <td>NaN</td>\n",
              "      <td>27.900000</td>\n",
              "      <td>22.0</td>\n",
              "      <td>40.799999</td>\n",
              "      <td>NaN</td>\n",
              "      <td>26.100000</td>\n",
              "      <td>True</td>\n",
              "      <td>NaN</td>\n",
              "      <td>None</td>\n",
              "      <td>0.32</td>\n",
              "      <td>NaN</td>\n",
              "      <td>False</td>\n",
              "      <td>False</td>\n",
              "      <td>False</td>\n",
              "      <td>False</td>\n",
              "      <td>False</td>\n",
              "      <td>False</td>\n",
              "    </tr>\n",
              "    <tr>\n",
              "      <th>2</th>\n",
              "      <td>2005-01-03</td>\n",
              "      <td>10010</td>\n",
              "      <td>99999</td>\n",
              "      <td>28.600000</td>\n",
              "      <td>24</td>\n",
              "      <td>24.200001</td>\n",
              "      <td>24.0</td>\n",
              "      <td>997.900024</td>\n",
              "      <td>24.0</td>\n",
              "      <td>996.700012</td>\n",
              "      <td>24.0</td>\n",
              "      <td>6.7</td>\n",
              "      <td>6.0</td>\n",
              "      <td>22.900000</td>\n",
              "      <td>24.0</td>\n",
              "      <td>29.100000</td>\n",
              "      <td>NaN</td>\n",
              "      <td>26.100000</td>\n",
              "      <td>False</td>\n",
              "      <td>NaN</td>\n",
              "      <td>None</td>\n",
              "      <td>0.04</td>\n",
              "      <td>NaN</td>\n",
              "      <td>False</td>\n",
              "      <td>False</td>\n",
              "      <td>False</td>\n",
              "      <td>False</td>\n",
              "      <td>False</td>\n",
              "      <td>False</td>\n",
              "    </tr>\n",
              "    <tr>\n",
              "      <th>3</th>\n",
              "      <td>2005-01-04</td>\n",
              "      <td>10010</td>\n",
              "      <td>99999</td>\n",
              "      <td>33.799999</td>\n",
              "      <td>18</td>\n",
              "      <td>29.700001</td>\n",
              "      <td>18.0</td>\n",
              "      <td>979.400024</td>\n",
              "      <td>18.0</td>\n",
              "      <td>978.200012</td>\n",
              "      <td>18.0</td>\n",
              "      <td>2.8</td>\n",
              "      <td>5.0</td>\n",
              "      <td>29.100000</td>\n",
              "      <td>18.0</td>\n",
              "      <td>36.900002</td>\n",
              "      <td>NaN</td>\n",
              "      <td>28.900000</td>\n",
              "      <td>False</td>\n",
              "      <td>NaN</td>\n",
              "      <td>None</td>\n",
              "      <td>0.04</td>\n",
              "      <td>NaN</td>\n",
              "      <td>False</td>\n",
              "      <td>False</td>\n",
              "      <td>False</td>\n",
              "      <td>False</td>\n",
              "      <td>False</td>\n",
              "      <td>False</td>\n",
              "    </tr>\n",
              "    <tr>\n",
              "      <th>4</th>\n",
              "      <td>2005-01-05</td>\n",
              "      <td>10010</td>\n",
              "      <td>99999</td>\n",
              "      <td>32.000000</td>\n",
              "      <td>18</td>\n",
              "      <td>29.700001</td>\n",
              "      <td>18.0</td>\n",
              "      <td>973.799988</td>\n",
              "      <td>18.0</td>\n",
              "      <td>972.599976</td>\n",
              "      <td>18.0</td>\n",
              "      <td>5.4</td>\n",
              "      <td>6.0</td>\n",
              "      <td>5.900000</td>\n",
              "      <td>18.0</td>\n",
              "      <td>13.600000</td>\n",
              "      <td>NaN</td>\n",
              "      <td>30.200001</td>\n",
              "      <td>True</td>\n",
              "      <td>NaN</td>\n",
              "      <td>None</td>\n",
              "      <td>0.31</td>\n",
              "      <td>NaN</td>\n",
              "      <td>False</td>\n",
              "      <td>False</td>\n",
              "      <td>False</td>\n",
              "      <td>False</td>\n",
              "      <td>False</td>\n",
              "      <td>False</td>\n",
              "    </tr>\n",
              "    <tr>\n",
              "      <th>...</th>\n",
              "      <td>...</td>\n",
              "      <td>...</td>\n",
              "      <td>...</td>\n",
              "      <td>...</td>\n",
              "      <td>...</td>\n",
              "      <td>...</td>\n",
              "      <td>...</td>\n",
              "      <td>...</td>\n",
              "      <td>...</td>\n",
              "      <td>...</td>\n",
              "      <td>...</td>\n",
              "      <td>...</td>\n",
              "      <td>...</td>\n",
              "      <td>...</td>\n",
              "      <td>...</td>\n",
              "      <td>...</td>\n",
              "      <td>...</td>\n",
              "      <td>...</td>\n",
              "      <td>...</td>\n",
              "      <td>...</td>\n",
              "      <td>...</td>\n",
              "      <td>...</td>\n",
              "      <td>...</td>\n",
              "      <td>...</td>\n",
              "      <td>...</td>\n",
              "      <td>...</td>\n",
              "      <td>...</td>\n",
              "      <td>...</td>\n",
              "      <td>...</td>\n",
              "    </tr>\n",
              "    <tr>\n",
              "      <th>15953654</th>\n",
              "      <td>2010-04-11</td>\n",
              "      <td>997439</td>\n",
              "      <td>99999</td>\n",
              "      <td>57.200001</td>\n",
              "      <td>24</td>\n",
              "      <td>36.400002</td>\n",
              "      <td>24.0</td>\n",
              "      <td>1021.900024</td>\n",
              "      <td>24.0</td>\n",
              "      <td>NaN</td>\n",
              "      <td>NaN</td>\n",
              "      <td>NaN</td>\n",
              "      <td>NaN</td>\n",
              "      <td>9.100000</td>\n",
              "      <td>24.0</td>\n",
              "      <td>13.600000</td>\n",
              "      <td>NaN</td>\n",
              "      <td>51.400002</td>\n",
              "      <td>True</td>\n",
              "      <td>NaN</td>\n",
              "      <td>None</td>\n",
              "      <td>0.00</td>\n",
              "      <td>NaN</td>\n",
              "      <td>False</td>\n",
              "      <td>False</td>\n",
              "      <td>False</td>\n",
              "      <td>False</td>\n",
              "      <td>False</td>\n",
              "      <td>False</td>\n",
              "    </tr>\n",
              "    <tr>\n",
              "      <th>15953655</th>\n",
              "      <td>2010-04-12</td>\n",
              "      <td>997439</td>\n",
              "      <td>99999</td>\n",
              "      <td>55.299999</td>\n",
              "      <td>24</td>\n",
              "      <td>30.900000</td>\n",
              "      <td>23.0</td>\n",
              "      <td>1025.099976</td>\n",
              "      <td>24.0</td>\n",
              "      <td>NaN</td>\n",
              "      <td>NaN</td>\n",
              "      <td>NaN</td>\n",
              "      <td>NaN</td>\n",
              "      <td>6.000000</td>\n",
              "      <td>24.0</td>\n",
              "      <td>11.700000</td>\n",
              "      <td>NaN</td>\n",
              "      <td>47.099998</td>\n",
              "      <td>True</td>\n",
              "      <td>NaN</td>\n",
              "      <td>None</td>\n",
              "      <td>0.00</td>\n",
              "      <td>NaN</td>\n",
              "      <td>False</td>\n",
              "      <td>False</td>\n",
              "      <td>False</td>\n",
              "      <td>False</td>\n",
              "      <td>False</td>\n",
              "      <td>False</td>\n",
              "    </tr>\n",
              "    <tr>\n",
              "      <th>15953656</th>\n",
              "      <td>2010-04-13</td>\n",
              "      <td>997439</td>\n",
              "      <td>99999</td>\n",
              "      <td>51.299999</td>\n",
              "      <td>24</td>\n",
              "      <td>36.500000</td>\n",
              "      <td>24.0</td>\n",
              "      <td>1030.599976</td>\n",
              "      <td>24.0</td>\n",
              "      <td>NaN</td>\n",
              "      <td>NaN</td>\n",
              "      <td>NaN</td>\n",
              "      <td>NaN</td>\n",
              "      <td>6.200000</td>\n",
              "      <td>24.0</td>\n",
              "      <td>11.700000</td>\n",
              "      <td>NaN</td>\n",
              "      <td>48.700001</td>\n",
              "      <td>True</td>\n",
              "      <td>NaN</td>\n",
              "      <td>None</td>\n",
              "      <td>0.00</td>\n",
              "      <td>NaN</td>\n",
              "      <td>False</td>\n",
              "      <td>False</td>\n",
              "      <td>False</td>\n",
              "      <td>False</td>\n",
              "      <td>False</td>\n",
              "      <td>False</td>\n",
              "    </tr>\n",
              "    <tr>\n",
              "      <th>15953657</th>\n",
              "      <td>2010-04-14</td>\n",
              "      <td>997439</td>\n",
              "      <td>99999</td>\n",
              "      <td>51.099998</td>\n",
              "      <td>24</td>\n",
              "      <td>36.099998</td>\n",
              "      <td>24.0</td>\n",
              "      <td>1032.900024</td>\n",
              "      <td>24.0</td>\n",
              "      <td>NaN</td>\n",
              "      <td>NaN</td>\n",
              "      <td>NaN</td>\n",
              "      <td>NaN</td>\n",
              "      <td>4.300000</td>\n",
              "      <td>24.0</td>\n",
              "      <td>7.800000</td>\n",
              "      <td>NaN</td>\n",
              "      <td>45.700001</td>\n",
              "      <td>True</td>\n",
              "      <td>NaN</td>\n",
              "      <td>None</td>\n",
              "      <td>0.00</td>\n",
              "      <td>NaN</td>\n",
              "      <td>False</td>\n",
              "      <td>False</td>\n",
              "      <td>False</td>\n",
              "      <td>False</td>\n",
              "      <td>False</td>\n",
              "      <td>False</td>\n",
              "    </tr>\n",
              "    <tr>\n",
              "      <th>15953658</th>\n",
              "      <td>2010-04-15</td>\n",
              "      <td>997439</td>\n",
              "      <td>99999</td>\n",
              "      <td>56.700001</td>\n",
              "      <td>24</td>\n",
              "      <td>33.400002</td>\n",
              "      <td>24.0</td>\n",
              "      <td>1025.099976</td>\n",
              "      <td>24.0</td>\n",
              "      <td>NaN</td>\n",
              "      <td>NaN</td>\n",
              "      <td>NaN</td>\n",
              "      <td>NaN</td>\n",
              "      <td>7.400000</td>\n",
              "      <td>24.0</td>\n",
              "      <td>11.700000</td>\n",
              "      <td>NaN</td>\n",
              "      <td>50.400002</td>\n",
              "      <td>True</td>\n",
              "      <td>NaN</td>\n",
              "      <td>None</td>\n",
              "      <td>0.00</td>\n",
              "      <td>NaN</td>\n",
              "      <td>False</td>\n",
              "      <td>False</td>\n",
              "      <td>False</td>\n",
              "      <td>False</td>\n",
              "      <td>False</td>\n",
              "      <td>False</td>\n",
              "    </tr>\n",
              "  </tbody>\n",
              "</table>\n",
              "<p>15953659 rows × 29 columns</p>\n",
              "</div>"
            ],
            "text/plain": [
              "                date  station_number  wban_number  ...   hail  thunder  tornado\n",
              "0         2005-01-01           10010        99999  ...  False    False    False\n",
              "1         2005-01-02           10010        99999  ...  False    False    False\n",
              "2         2005-01-03           10010        99999  ...  False    False    False\n",
              "3         2005-01-04           10010        99999  ...  False    False    False\n",
              "4         2005-01-05           10010        99999  ...  False    False    False\n",
              "...              ...             ...          ...  ...    ...      ...      ...\n",
              "15953654  2010-04-11          997439        99999  ...  False    False    False\n",
              "15953655  2010-04-12          997439        99999  ...  False    False    False\n",
              "15953656  2010-04-13          997439        99999  ...  False    False    False\n",
              "15953657  2010-04-14          997439        99999  ...  False    False    False\n",
              "15953658  2010-04-15          997439        99999  ...  False    False    False\n",
              "\n",
              "[15953659 rows x 29 columns]"
            ]
          },
          "metadata": {
            "tags": []
          },
          "execution_count": 9
        }
      ]
    },
    {
      "cell_type": "markdown",
      "metadata": {
        "id": "TVbyR7DZbjxf"
      },
      "source": [
        "**Do a first analysis of the remaining dataset, clean or drop data depending on how you see appropriate.**"
      ]
    },
    {
      "cell_type": "markdown",
      "metadata": {
        "id": "YVpuZlavbjxg"
      },
      "source": [
        "**data cleansing and abstraction where appropriate, able to identifie columns that can be dropped, which information might be usefull and possible data imputation**"
      ]
    },
    {
      "cell_type": "markdown",
      "metadata": {
        "id": "HRJMD8zXx3Hu"
      },
      "source": [
        "It will be useful for us to convert the data type of the 'date' column into *datetime*"
      ]
    },
    {
      "cell_type": "code",
      "metadata": {
        "colab": {
          "base_uri": "https://localhost:8080/"
        },
        "id": "3CzKAXp24nA8",
        "outputId": "e8a43f9a-5648-4a82-e873-15c5525b28a2"
      },
      "source": [
        "pd.to_datetime(df['date'])"
      ],
      "execution_count": 10,
      "outputs": [
        {
          "output_type": "execute_result",
          "data": {
            "text/plain": [
              "0          2005-01-01\n",
              "1          2005-01-02\n",
              "2          2005-01-03\n",
              "3          2005-01-04\n",
              "4          2005-01-05\n",
              "              ...    \n",
              "15953654   2010-04-11\n",
              "15953655   2010-04-12\n",
              "15953656   2010-04-13\n",
              "15953657   2010-04-14\n",
              "15953658   2010-04-15\n",
              "Name: date, Length: 15953659, dtype: datetime64[ns]"
            ]
          },
          "metadata": {
            "tags": []
          },
          "execution_count": 10
        }
      ]
    },
    {
      "cell_type": "markdown",
      "metadata": {
        "id": "8nhHxOhRyNuZ"
      },
      "source": [
        "Let's check how much missing values do we have in each column"
      ]
    },
    {
      "cell_type": "code",
      "metadata": {
        "colab": {
          "base_uri": "https://localhost:8080/"
        },
        "id": "Dsh9x6twyXli",
        "outputId": "c58d57e0-c339-4ab0-9397-cd2c6c63578c"
      },
      "source": [
        "percent_missing = df.isnull().sum() * 100 / len(df)\n",
        "percent_missing"
      ],
      "execution_count": 11,
      "outputs": [
        {
          "output_type": "execute_result",
          "data": {
            "text/plain": [
              "date                                    0.000000\n",
              "station_number                          0.000000\n",
              "wban_number                             0.000000\n",
              "mean_temp                               0.000000\n",
              "num_mean_temp_samples                   0.000000\n",
              "mean_dew_point                          3.787702\n",
              "num_mean_dew_point_samples              3.787702\n",
              "mean_sealevel_pressure                 33.000674\n",
              "num_mean_sealevel_pressure_samples     33.000674\n",
              "mean_station_pressure                  52.123503\n",
              "num_mean_station_pressure_samples      52.123503\n",
              "mean_visibility                        20.321815\n",
              "num_mean_visibility_samples            20.321815\n",
              "mean_wind_speed                         1.391837\n",
              "num_mean_wind_speed_samples             1.391837\n",
              "max_sustained_wind_speed                2.396717\n",
              "max_gust_wind_speed                    73.740457\n",
              "max_temperature                         0.052533\n",
              "max_temperature_explicit                0.052533\n",
              "min_temperature                       100.000000\n",
              "min_temperature_explicit              100.000000\n",
              "total_precipitation                     9.251251\n",
              "snow_depth                             94.597227\n",
              "fog                                     0.000000\n",
              "rain                                    0.000000\n",
              "snow                                    0.000000\n",
              "hail                                    0.000000\n",
              "thunder                                 0.000000\n",
              "tornado                                 0.000000\n",
              "dtype: float64"
            ]
          },
          "metadata": {
            "tags": []
          },
          "execution_count": 11
        }
      ]
    },
    {
      "cell_type": "markdown",
      "metadata": {
        "id": "Uptjre5dyl3y"
      },
      "source": [
        "I decided to drop all the columns that have more than a thirds of their data missing, because I do not think that they will provide much information to us "
      ]
    },
    {
      "cell_type": "code",
      "metadata": {
        "id": "FG1L2QpZ1TVK"
      },
      "source": [
        "cols_to_drop = percent_missing.loc[percent_missing>33].index\n",
        "df.drop(cols_to_drop, axis=1, inplace=True)"
      ],
      "execution_count": 12,
      "outputs": []
    },
    {
      "cell_type": "markdown",
      "metadata": {
        "id": "g1u39jsEy93T"
      },
      "source": [
        "Let's apply a linear interpolatation to fill the missing values in remaining columns"
      ]
    },
    {
      "cell_type": "code",
      "metadata": {
        "id": "450BSAsp3BCa"
      },
      "source": [
        "df = df.apply(lambda x: x.interpolate(method='linear'))"
      ],
      "execution_count": 13,
      "outputs": []
    },
    {
      "cell_type": "code",
      "metadata": {
        "colab": {
          "base_uri": "https://localhost:8080/",
          "height": 317
        },
        "id": "cypg2-pE3VRn",
        "outputId": "1f4adb96-c5d4-401f-bca3-4e16f7dd7f69"
      },
      "source": [
        " df.describe()"
      ],
      "execution_count": 14,
      "outputs": [
        {
          "output_type": "execute_result",
          "data": {
            "text/html": [
              "<div>\n",
              "<style scoped>\n",
              "    .dataframe tbody tr th:only-of-type {\n",
              "        vertical-align: middle;\n",
              "    }\n",
              "\n",
              "    .dataframe tbody tr th {\n",
              "        vertical-align: top;\n",
              "    }\n",
              "\n",
              "    .dataframe thead th {\n",
              "        text-align: right;\n",
              "    }\n",
              "</style>\n",
              "<table border=\"1\" class=\"dataframe\">\n",
              "  <thead>\n",
              "    <tr style=\"text-align: right;\">\n",
              "      <th></th>\n",
              "      <th>station_number</th>\n",
              "      <th>wban_number</th>\n",
              "      <th>mean_temp</th>\n",
              "      <th>num_mean_temp_samples</th>\n",
              "      <th>mean_dew_point</th>\n",
              "      <th>num_mean_dew_point_samples</th>\n",
              "      <th>mean_visibility</th>\n",
              "      <th>num_mean_visibility_samples</th>\n",
              "      <th>mean_wind_speed</th>\n",
              "      <th>num_mean_wind_speed_samples</th>\n",
              "      <th>max_sustained_wind_speed</th>\n",
              "      <th>max_temperature</th>\n",
              "      <th>total_precipitation</th>\n",
              "    </tr>\n",
              "  </thead>\n",
              "  <tbody>\n",
              "    <tr>\n",
              "      <th>count</th>\n",
              "      <td>1.595366e+07</td>\n",
              "      <td>1.595366e+07</td>\n",
              "      <td>1.595366e+07</td>\n",
              "      <td>1.595366e+07</td>\n",
              "      <td>1.595366e+07</td>\n",
              "      <td>1.595366e+07</td>\n",
              "      <td>1.595366e+07</td>\n",
              "      <td>1.595366e+07</td>\n",
              "      <td>1.595366e+07</td>\n",
              "      <td>1.595366e+07</td>\n",
              "      <td>1.595366e+07</td>\n",
              "      <td>1.595366e+07</td>\n",
              "      <td>1.595366e+07</td>\n",
              "    </tr>\n",
              "    <tr>\n",
              "      <th>mean</th>\n",
              "      <td>5.376262e+05</td>\n",
              "      <td>9.304132e+04</td>\n",
              "      <td>5.378100e+01</td>\n",
              "      <td>1.651205e+01</td>\n",
              "      <td>4.268534e+01</td>\n",
              "      <td>1.634590e+01</td>\n",
              "      <td>1.021894e+01</td>\n",
              "      <td>1.515362e+01</td>\n",
              "      <td>6.643104e+00</td>\n",
              "      <td>1.641187e+01</td>\n",
              "      <td>1.208465e+01</td>\n",
              "      <td>4.500543e+01</td>\n",
              "      <td>6.543209e-02</td>\n",
              "    </tr>\n",
              "    <tr>\n",
              "      <th>std</th>\n",
              "      <td>3.009571e+05</td>\n",
              "      <td>2.266771e+04</td>\n",
              "      <td>2.311433e+01</td>\n",
              "      <td>7.880274e+00</td>\n",
              "      <td>2.160524e+01</td>\n",
              "      <td>7.857696e+00</td>\n",
              "      <td>6.652675e+00</td>\n",
              "      <td>8.058245e+00</td>\n",
              "      <td>4.683893e+00</td>\n",
              "      <td>7.879867e+00</td>\n",
              "      <td>6.562944e+00</td>\n",
              "      <td>2.296498e+01</td>\n",
              "      <td>2.788799e-01</td>\n",
              "    </tr>\n",
              "    <tr>\n",
              "      <th>min</th>\n",
              "      <td>1.001000e+04</td>\n",
              "      <td>3.011000e+03</td>\n",
              "      <td>-1.130000e+02</td>\n",
              "      <td>4.000000e+00</td>\n",
              "      <td>-1.190000e+02</td>\n",
              "      <td>4.000000e+00</td>\n",
              "      <td>0.000000e+00</td>\n",
              "      <td>4.000000e+00</td>\n",
              "      <td>0.000000e+00</td>\n",
              "      <td>4.000000e+00</td>\n",
              "      <td>1.000000e+00</td>\n",
              "      <td>-1.217000e+02</td>\n",
              "      <td>0.000000e+00</td>\n",
              "    </tr>\n",
              "    <tr>\n",
              "      <th>25%</th>\n",
              "      <td>2.761200e+05</td>\n",
              "      <td>9.999900e+04</td>\n",
              "      <td>4.010000e+01</td>\n",
              "      <td>8.000000e+00</td>\n",
              "      <td>3.030000e+01</td>\n",
              "      <td>8.000000e+00</td>\n",
              "      <td>6.200000e+00</td>\n",
              "      <td>7.169465e+00</td>\n",
              "      <td>3.400000e+00</td>\n",
              "      <td>8.000000e+00</td>\n",
              "      <td>7.800000e+00</td>\n",
              "      <td>3.200000e+01</td>\n",
              "      <td>0.000000e+00</td>\n",
              "    </tr>\n",
              "    <tr>\n",
              "      <th>50%</th>\n",
              "      <td>6.520100e+05</td>\n",
              "      <td>9.999900e+04</td>\n",
              "      <td>5.640000e+01</td>\n",
              "      <td>2.100000e+01</td>\n",
              "      <td>4.450000e+01</td>\n",
              "      <td>2.000000e+01</td>\n",
              "      <td>8.700000e+00</td>\n",
              "      <td>1.500000e+01</td>\n",
              "      <td>5.600000e+00</td>\n",
              "      <td>2.100000e+01</td>\n",
              "      <td>1.110000e+01</td>\n",
              "      <td>4.690000e+01</td>\n",
              "      <td>0.000000e+00</td>\n",
              "    </tr>\n",
              "    <tr>\n",
              "      <th>75%</th>\n",
              "      <td>7.254170e+05</td>\n",
              "      <td>9.999900e+04</td>\n",
              "      <td>7.160000e+01</td>\n",
              "      <td>2.400000e+01</td>\n",
              "      <td>5.800000e+01</td>\n",
              "      <td>2.400000e+01</td>\n",
              "      <td>1.180000e+01</td>\n",
              "      <td>2.400000e+01</td>\n",
              "      <td>8.700000e+00</td>\n",
              "      <td>2.400000e+01</td>\n",
              "      <td>1.550000e+01</td>\n",
              "      <td>6.170000e+01</td>\n",
              "      <td>0.000000e+00</td>\n",
              "    </tr>\n",
              "    <tr>\n",
              "      <th>max</th>\n",
              "      <td>9.974390e+05</td>\n",
              "      <td>9.999900e+04</td>\n",
              "      <td>1.100000e+02</td>\n",
              "      <td>2.400000e+01</td>\n",
              "      <td>8.960000e+01</td>\n",
              "      <td>2.400000e+01</td>\n",
              "      <td>9.940000e+01</td>\n",
              "      <td>2.400000e+01</td>\n",
              "      <td>9.190000e+01</td>\n",
              "      <td>2.400000e+01</td>\n",
              "      <td>9.690000e+01</td>\n",
              "      <td>1.328000e+02</td>\n",
              "      <td>1.951000e+01</td>\n",
              "    </tr>\n",
              "  </tbody>\n",
              "</table>\n",
              "</div>"
            ],
            "text/plain": [
              "       station_number   wban_number  ...  max_temperature  total_precipitation\n",
              "count    1.595366e+07  1.595366e+07  ...     1.595366e+07         1.595366e+07\n",
              "mean     5.376262e+05  9.304132e+04  ...     4.500543e+01         6.543209e-02\n",
              "std      3.009571e+05  2.266771e+04  ...     2.296498e+01         2.788799e-01\n",
              "min      1.001000e+04  3.011000e+03  ...    -1.217000e+02         0.000000e+00\n",
              "25%      2.761200e+05  9.999900e+04  ...     3.200000e+01         0.000000e+00\n",
              "50%      6.520100e+05  9.999900e+04  ...     4.690000e+01         0.000000e+00\n",
              "75%      7.254170e+05  9.999900e+04  ...     6.170000e+01         0.000000e+00\n",
              "max      9.974390e+05  9.999900e+04  ...     1.328000e+02         1.951000e+01\n",
              "\n",
              "[8 rows x 13 columns]"
            ]
          },
          "metadata": {
            "tags": []
          },
          "execution_count": 14
        }
      ]
    },
    {
      "cell_type": "markdown",
      "metadata": {
        "id": "gy-6NchQzV_I"
      },
      "source": [
        "Before moving onto further analysis, I decided to use a small subset of data for simplicity. Without the time and hardware constraints, all data should be used to solve this task.\n",
        "\n",
        "I took a little peak at the toy data (`'coding_challenge.csv'`) provided for this callenge, and decided to use the same stations in that data. I will discard the remaining stations for the rest of this task"
      ]
    },
    {
      "cell_type": "code",
      "metadata": {
        "id": "Pw7-auut9GYk"
      },
      "source": [
        "stations_to_keep = [725300, 725305, 725314,\t725315,\t725316,\t725317,\t725320,\t725326,\t725327,\t725330]\n",
        "df_small = df.loc[df['station_number'].isin(stations_to_keep)].reset_index(drop=True)"
      ],
      "execution_count": 15,
      "outputs": []
    },
    {
      "cell_type": "markdown",
      "metadata": {
        "id": "MgNlO2ps0erN"
      },
      "source": [
        "We continue with the correlation between each columns. Columns that are highly correlated with other ones can be dropped in order to reduce the dimensionality"
      ]
    },
    {
      "cell_type": "code",
      "metadata": {
        "colab": {
          "base_uri": "https://localhost:8080/",
          "height": 751
        },
        "id": "_nTe3xnMmdSr",
        "outputId": "47f723bf-6248-403d-b28d-7c07a14a71ad"
      },
      "source": [
        "corr = df_small.iloc[:, 3:].corr(method='pearson')\n",
        "fig, ax = plt.subplots(figsize=(12,10))  \n",
        "sns.heatmap(corr, annot=True, fmt='.2f', cmap='coolwarm')\n",
        "plt.show()"
      ],
      "execution_count": 16,
      "outputs": [
        {
          "output_type": "display_data",
          "data": {
            "image/png": "[encoded data removed]",
            "text/plain": [
              "<Figure size 864x720 with 2 Axes>"
            ]
          },
          "metadata": {
            "tags": [],
            "needs_background": "light"
          }
        }
      ]
    },
    {
      "cell_type": "markdown",
      "metadata": {
        "id": "cOHXZgHO05A9"
      },
      "source": [
        "We see that some of the columns are highly correlated with others. \n",
        "\n",
        "*   Interestingly, all the last 6 columns are perfectly correlated with each other. Since we want to predict the `snow`, it would be cheating to use the other 5, so we drop them. \n",
        "\n",
        "*   In addition, columns that indicate the number of sample to measure mean values also highly correlated with each other, therefore we keep only one of them.\n",
        "\n",
        "*   Moreover, featues that have mean and max values per day also storngly correlates with each other. \n",
        "\n",
        "*   In addition, the correlation between `mean_temp` and `mean_dew_point` is 0.97, which means we can drop one of them as well.\n",
        "\n"
      ]
    },
    {
      "cell_type": "code",
      "metadata": {
        "id": "z6H05lKnpHWg",
        "colab": {
          "base_uri": "https://localhost:8080/",
          "height": 204
        },
        "outputId": "c47bb73b-8e00-4d39-8a44-67b30b1e2ba1"
      },
      "source": [
        "cols_to_drop = ['mean_dew_point', 'num_mean_dew_point_samples', 'num_mean_visibility_samples', \n",
        " 'num_mean_wind_speed_samples', 'max_sustained_wind_speed', 'max_temperature', 'max_temperature_explicit',\n",
        " 'fog', 'rain', 'hail', 'thunder', 'tornado']\n",
        "df_small.drop(cols_to_drop, axis=1, inplace=True)\n",
        "df_small.head()"
      ],
      "execution_count": 17,
      "outputs": [
        {
          "output_type": "execute_result",
          "data": {
            "text/html": [
              "<div>\n",
              "<style scoped>\n",
              "    .dataframe tbody tr th:only-of-type {\n",
              "        vertical-align: middle;\n",
              "    }\n",
              "\n",
              "    .dataframe tbody tr th {\n",
              "        vertical-align: top;\n",
              "    }\n",
              "\n",
              "    .dataframe thead th {\n",
              "        text-align: right;\n",
              "    }\n",
              "</style>\n",
              "<table border=\"1\" class=\"dataframe\">\n",
              "  <thead>\n",
              "    <tr style=\"text-align: right;\">\n",
              "      <th></th>\n",
              "      <th>date</th>\n",
              "      <th>station_number</th>\n",
              "      <th>wban_number</th>\n",
              "      <th>mean_temp</th>\n",
              "      <th>num_mean_temp_samples</th>\n",
              "      <th>mean_visibility</th>\n",
              "      <th>mean_wind_speed</th>\n",
              "      <th>total_precipitation</th>\n",
              "      <th>snow</th>\n",
              "    </tr>\n",
              "  </thead>\n",
              "  <tbody>\n",
              "    <tr>\n",
              "      <th>0</th>\n",
              "      <td>2005-01-01</td>\n",
              "      <td>725300</td>\n",
              "      <td>94846</td>\n",
              "      <td>32.099998</td>\n",
              "      <td>24</td>\n",
              "      <td>9.9</td>\n",
              "      <td>8.7</td>\n",
              "      <td>0.00</td>\n",
              "      <td>False</td>\n",
              "    </tr>\n",
              "    <tr>\n",
              "      <th>1</th>\n",
              "      <td>2005-01-02</td>\n",
              "      <td>725300</td>\n",
              "      <td>94846</td>\n",
              "      <td>42.799999</td>\n",
              "      <td>24</td>\n",
              "      <td>6.1</td>\n",
              "      <td>9.4</td>\n",
              "      <td>0.25</td>\n",
              "      <td>True</td>\n",
              "    </tr>\n",
              "    <tr>\n",
              "      <th>2</th>\n",
              "      <td>2005-01-03</td>\n",
              "      <td>725300</td>\n",
              "      <td>94846</td>\n",
              "      <td>34.599998</td>\n",
              "      <td>24</td>\n",
              "      <td>6.3</td>\n",
              "      <td>7.8</td>\n",
              "      <td>0.09</td>\n",
              "      <td>True</td>\n",
              "    </tr>\n",
              "    <tr>\n",
              "      <th>3</th>\n",
              "      <td>2005-01-04</td>\n",
              "      <td>725300</td>\n",
              "      <td>94846</td>\n",
              "      <td>32.299999</td>\n",
              "      <td>24</td>\n",
              "      <td>7.7</td>\n",
              "      <td>9.3</td>\n",
              "      <td>0.34</td>\n",
              "      <td>True</td>\n",
              "    </tr>\n",
              "    <tr>\n",
              "      <th>4</th>\n",
              "      <td>2005-01-05</td>\n",
              "      <td>725300</td>\n",
              "      <td>94846</td>\n",
              "      <td>29.700001</td>\n",
              "      <td>24</td>\n",
              "      <td>2.0</td>\n",
              "      <td>15.4</td>\n",
              "      <td>0.16</td>\n",
              "      <td>True</td>\n",
              "    </tr>\n",
              "  </tbody>\n",
              "</table>\n",
              "</div>"
            ],
            "text/plain": [
              "         date  station_number  ...  total_precipitation   snow\n",
              "0  2005-01-01          725300  ...                 0.00  False\n",
              "1  2005-01-02          725300  ...                 0.25   True\n",
              "2  2005-01-03          725300  ...                 0.09   True\n",
              "3  2005-01-04          725300  ...                 0.34   True\n",
              "4  2005-01-05          725300  ...                 0.16   True\n",
              "\n",
              "[5 rows x 9 columns]"
            ]
          },
          "metadata": {
            "tags": []
          },
          "execution_count": 17
        }
      ]
    },
    {
      "cell_type": "markdown",
      "metadata": {
        "id": "rMXG1U0O2bT1"
      },
      "source": [
        "Let's visualize the remaining features"
      ]
    },
    {
      "cell_type": "code",
      "metadata": {
        "colab": {
          "base_uri": "https://localhost:8080/",
          "height": 465
        },
        "id": "gLksDEopCpZ7",
        "outputId": "5fc49177-2afe-456b-d611-7b4810e35e6e"
      },
      "source": [
        "features = ['mean_temp','num_mean_temp_samples','mean_visibility','mean_wind_speed',\n",
        "         'total_precipitation']\n",
        "df_small[features].plot(subplots=True,\n",
        "        layout=(5, 3),\n",
        "        figsize=(25,15),\n",
        "        linewidth=2,\n",
        "        sharex=False,\n",
        "        title='Visualization of the Time Series')\n",
        "plt.show()"
      ],
      "execution_count": 18,
      "outputs": [
        {
          "output_type": "display_data",
          "data": {
            "image/png": "[encoded data removed]",
            "text/plain": [
              "<Figure size 1800x1080 with 15 Axes>"
            ]
          },
          "metadata": {
            "tags": [],
            "needs_background": "light"
          }
        }
      ]
    },
    {
      "cell_type": "markdown",
      "metadata": {
        "id": "ULG6fQ_C2xUb"
      },
      "source": [
        "Do we really need all these features?\n",
        "\n",
        "According to the heatmap above, only `mean_visibility` seems to have a relatively stronger correlation with the target value. The other ones don't have a significant correlation with it. However, Pearson correlation coefficient is originally used between two continous variables, thus it might be misleading. \n",
        "\n",
        "In the case of a relationship between a continous and a categorical variable, we can make use of box plots for visual interpretation, or we can use the ANOVA test for more scientific approach.\n",
        "\n"
      ]
    },
    {
      "cell_type": "code",
      "metadata": {
        "colab": {
          "base_uri": "https://localhost:8080/",
          "height": 585
        },
        "id": "rD8-25_nqJey",
        "outputId": "17676cec-ff2c-49ea-f239-18ac73f89462"
      },
      "source": [
        "plt.figure(figsize=(22,8))\n",
        "i = 1\n",
        "for feature in features:\n",
        "    plt.subplot(2, 3, i)\n",
        "    sns.boxplot(x='station_number', y=feature, hue='snow', data=df_small, palette=\"Set3\")\n",
        "    i += 1\n",
        "plt.tight_layout()\n",
        "plt.suptitle('Box Plots of the Features')\n",
        "plt.subplots_adjust(top=0.9)\n",
        "plt.show()"
      ],
      "execution_count": 19,
      "outputs": [
        {
          "output_type": "display_data",
          "data": {
            "image/png": "[encoded data removed]",
            "text/plain": [
              "<Figure size 1584x576 with 5 Axes>"
            ]
          },
          "metadata": {
            "tags": [],
            "needs_background": "light"
          }
        }
      ]
    },
    {
      "cell_type": "markdown",
      "metadata": {
        "id": "5u2ROWnx4feB"
      },
      "source": [
        "The figure clearly show that a significant change occurs only in `mean_visibilty` boxe plots when it snows."
      ]
    },
    {
      "cell_type": "markdown",
      "metadata": {
        "id": "TDBD3lOP5FIb"
      },
      "source": [
        "Also according to the ANOVA test, the best feature is again `mean_visibility`"
      ]
    },
    {
      "cell_type": "code",
      "metadata": {
        "colab": {
          "base_uri": "https://localhost:8080/",
          "height": 204
        },
        "id": "vMQUSmTwKYqL",
        "outputId": "a7aed69b-186d-4c1b-c057-334ec565c036"
      },
      "source": [
        "k_best = SelectKBest(score_func=f_classif, k=1)\n",
        "a = k_best.fit_transform(df_small[features], df_small['snow'])\n",
        "\n",
        "pd.DataFrame(k_best.get_support(), index=features, columns=['Included'])"
      ],
      "execution_count": 20,
      "outputs": [
        {
          "output_type": "execute_result",
          "data": {
            "text/html": [
              "<div>\n",
              "<style scoped>\n",
              "    .dataframe tbody tr th:only-of-type {\n",
              "        vertical-align: middle;\n",
              "    }\n",
              "\n",
              "    .dataframe tbody tr th {\n",
              "        vertical-align: top;\n",
              "    }\n",
              "\n",
              "    .dataframe thead th {\n",
              "        text-align: right;\n",
              "    }\n",
              "</style>\n",
              "<table border=\"1\" class=\"dataframe\">\n",
              "  <thead>\n",
              "    <tr style=\"text-align: right;\">\n",
              "      <th></th>\n",
              "      <th>Included</th>\n",
              "    </tr>\n",
              "  </thead>\n",
              "  <tbody>\n",
              "    <tr>\n",
              "      <th>mean_temp</th>\n",
              "      <td>False</td>\n",
              "    </tr>\n",
              "    <tr>\n",
              "      <th>num_mean_temp_samples</th>\n",
              "      <td>False</td>\n",
              "    </tr>\n",
              "    <tr>\n",
              "      <th>mean_visibility</th>\n",
              "      <td>True</td>\n",
              "    </tr>\n",
              "    <tr>\n",
              "      <th>mean_wind_speed</th>\n",
              "      <td>False</td>\n",
              "    </tr>\n",
              "    <tr>\n",
              "      <th>total_precipitation</th>\n",
              "      <td>False</td>\n",
              "    </tr>\n",
              "  </tbody>\n",
              "</table>\n",
              "</div>"
            ],
            "text/plain": [
              "                       Included\n",
              "mean_temp                 False\n",
              "num_mean_temp_samples     False\n",
              "mean_visibility            True\n",
              "mean_wind_speed           False\n",
              "total_precipitation       False"
            ]
          },
          "metadata": {
            "tags": []
          },
          "execution_count": 20
        }
      ]
    },
    {
      "cell_type": "markdown",
      "metadata": {
        "id": "8SylR9fabjxg"
      },
      "source": [
        "### 3. Task\n",
        "**Now it is time to split the data, into a training, evaluation and test set. As a reminder, the date we are trying to predict snow fall for is the following, and hence should constitute your test set.**"
      ]
    },
    {
      "cell_type": "markdown",
      "metadata": {
        "id": "owIr8Wz5664N"
      },
      "source": [
        "We start by defining our data as a `pandas.DataFrame` and save it as a csv file for later use"
      ]
    },
    {
      "cell_type": "code",
      "metadata": {
        "colab": {
          "base_uri": "https://localhost:8080/",
          "height": 204
        },
        "id": "Qb0bdPHFqMUr",
        "outputId": "99da6b81-7bb5-41ef-fde3-921f152151dd"
      },
      "source": [
        "data = df_small[['date', 'station_number','mean_visibility', 'snow']]\n",
        "data.head()"
      ],
      "execution_count": 21,
      "outputs": [
        {
          "output_type": "execute_result",
          "data": {
            "text/html": [
              "<div>\n",
              "<style scoped>\n",
              "    .dataframe tbody tr th:only-of-type {\n",
              "        vertical-align: middle;\n",
              "    }\n",
              "\n",
              "    .dataframe tbody tr th {\n",
              "        vertical-align: top;\n",
              "    }\n",
              "\n",
              "    .dataframe thead th {\n",
              "        text-align: right;\n",
              "    }\n",
              "</style>\n",
              "<table border=\"1\" class=\"dataframe\">\n",
              "  <thead>\n",
              "    <tr style=\"text-align: right;\">\n",
              "      <th></th>\n",
              "      <th>date</th>\n",
              "      <th>station_number</th>\n",
              "      <th>mean_visibility</th>\n",
              "      <th>snow</th>\n",
              "    </tr>\n",
              "  </thead>\n",
              "  <tbody>\n",
              "    <tr>\n",
              "      <th>0</th>\n",
              "      <td>2005-01-01</td>\n",
              "      <td>725300</td>\n",
              "      <td>9.9</td>\n",
              "      <td>False</td>\n",
              "    </tr>\n",
              "    <tr>\n",
              "      <th>1</th>\n",
              "      <td>2005-01-02</td>\n",
              "      <td>725300</td>\n",
              "      <td>6.1</td>\n",
              "      <td>True</td>\n",
              "    </tr>\n",
              "    <tr>\n",
              "      <th>2</th>\n",
              "      <td>2005-01-03</td>\n",
              "      <td>725300</td>\n",
              "      <td>6.3</td>\n",
              "      <td>True</td>\n",
              "    </tr>\n",
              "    <tr>\n",
              "      <th>3</th>\n",
              "      <td>2005-01-04</td>\n",
              "      <td>725300</td>\n",
              "      <td>7.7</td>\n",
              "      <td>True</td>\n",
              "    </tr>\n",
              "    <tr>\n",
              "      <th>4</th>\n",
              "      <td>2005-01-05</td>\n",
              "      <td>725300</td>\n",
              "      <td>2.0</td>\n",
              "      <td>True</td>\n",
              "    </tr>\n",
              "  </tbody>\n",
              "</table>\n",
              "</div>"
            ],
            "text/plain": [
              "         date  station_number  mean_visibility   snow\n",
              "0  2005-01-01          725300              9.9  False\n",
              "1  2005-01-02          725300              6.1   True\n",
              "2  2005-01-03          725300              6.3   True\n",
              "3  2005-01-04          725300              7.7   True\n",
              "4  2005-01-05          725300              2.0   True"
            ]
          },
          "metadata": {
            "tags": []
          },
          "execution_count": 21
        }
      ]
    },
    {
      "cell_type": "code",
      "metadata": {
        "id": "LYcIAHSfmB41"
      },
      "source": [
        "data.to_csv('7L_Coding_Challenge_data_small.csv', index=False)"
      ],
      "execution_count": 22,
      "outputs": []
    },
    {
      "cell_type": "markdown",
      "metadata": {
        "id": "-xozmLeD7aQx"
      },
      "source": [
        "The target date is 11 years ago today as explained in the intorduction"
      ]
    },
    {
      "cell_type": "code",
      "metadata": {
        "id": "ue6dUgV6A-8y",
        "colab": {
          "base_uri": "https://localhost:8080/"
        },
        "outputId": "08ee33f0-485f-44e8-a422-2dcd156509cc"
      },
      "source": [
        "target_date = datetime.date.today() - timedelta(days=11*365)\n",
        "target_date_str = str(target_date).split(' ')[0]\n",
        "print(f'Target Date: {target_date_str}')"
      ],
      "execution_count": 23,
      "outputs": [
        {
          "output_type": "stream",
          "text": [
            "Target Date: 2010-04-09\n"
          ],
          "name": "stdout"
        }
      ]
    },
    {
      "cell_type": "markdown",
      "metadata": {
        "id": "SompD00i7QyE"
      },
      "source": [
        "I decided to use 60 as my windows size to train later the LSTM model. I believe that 2 month windows will provide enough information to predict the next day.\n",
        "\n",
        "My test set will only include one time window per station before the target day we want to forecast. Therefore, validation set will end 61 days before tha target date. \n",
        "\n",
        "In other words, if I want to forecast the visibilty for time $t$, I need the time window before it, which is the data from $t_{-60}$ to $t_{-1}$"
      ]
    },
    {
      "cell_type": "code",
      "metadata": {
        "id": "zvrClQWX7Ry6"
      },
      "source": [
        "window_size = 60"
      ],
      "execution_count": 24,
      "outputs": []
    },
    {
      "cell_type": "code",
      "metadata": {
        "id": "0dYX5dtsBGWP"
      },
      "source": [
        "# Validation data will end window_size + 1 days before the target date\n",
        "val_end_date = target_date - timedelta(days=window_size + 1)\n",
        "val_end_date_str = str(val_end_date).split(' ')[0]"
      ],
      "execution_count": 25,
      "outputs": []
    },
    {
      "cell_type": "code",
      "metadata": {
        "id": "BLD-Rd0BBO1f"
      },
      "source": [
        "# Train data will start from the beginning and end exactly one year before the end of validation set\n",
        "train_end_date = val_end_date - timedelta(days=365)\n",
        "train_end_date_str = str(train_end_date).split(' ')[0]"
      ],
      "execution_count": 26,
      "outputs": []
    },
    {
      "cell_type": "code",
      "metadata": {
        "colab": {
          "base_uri": "https://localhost:8080/",
          "height": 419
        },
        "id": "Csa6T9hXLFX6",
        "outputId": "af590c7e-736e-4d4d-ba15-fbfe8766b2ef"
      },
      "source": [
        "train_data = data[data['date'] <= train_end_date]\n",
        "train_data"
      ],
      "execution_count": 27,
      "outputs": [
        {
          "output_type": "execute_result",
          "data": {
            "text/html": [
              "<div>\n",
              "<style scoped>\n",
              "    .dataframe tbody tr th:only-of-type {\n",
              "        vertical-align: middle;\n",
              "    }\n",
              "\n",
              "    .dataframe tbody tr th {\n",
              "        vertical-align: top;\n",
              "    }\n",
              "\n",
              "    .dataframe thead th {\n",
              "        text-align: right;\n",
              "    }\n",
              "</style>\n",
              "<table border=\"1\" class=\"dataframe\">\n",
              "  <thead>\n",
              "    <tr style=\"text-align: right;\">\n",
              "      <th></th>\n",
              "      <th>date</th>\n",
              "      <th>station_number</th>\n",
              "      <th>mean_visibility</th>\n",
              "      <th>snow</th>\n",
              "    </tr>\n",
              "  </thead>\n",
              "  <tbody>\n",
              "    <tr>\n",
              "      <th>0</th>\n",
              "      <td>2005-01-01</td>\n",
              "      <td>725300</td>\n",
              "      <td>9.9</td>\n",
              "      <td>False</td>\n",
              "    </tr>\n",
              "    <tr>\n",
              "      <th>1</th>\n",
              "      <td>2005-01-02</td>\n",
              "      <td>725300</td>\n",
              "      <td>6.1</td>\n",
              "      <td>True</td>\n",
              "    </tr>\n",
              "    <tr>\n",
              "      <th>2</th>\n",
              "      <td>2005-01-03</td>\n",
              "      <td>725300</td>\n",
              "      <td>6.3</td>\n",
              "      <td>True</td>\n",
              "    </tr>\n",
              "    <tr>\n",
              "      <th>3</th>\n",
              "      <td>2005-01-04</td>\n",
              "      <td>725300</td>\n",
              "      <td>7.7</td>\n",
              "      <td>True</td>\n",
              "    </tr>\n",
              "    <tr>\n",
              "      <th>4</th>\n",
              "      <td>2005-01-05</td>\n",
              "      <td>725300</td>\n",
              "      <td>2.0</td>\n",
              "      <td>True</td>\n",
              "    </tr>\n",
              "    <tr>\n",
              "      <th>...</th>\n",
              "      <td>...</td>\n",
              "      <td>...</td>\n",
              "      <td>...</td>\n",
              "      <td>...</td>\n",
              "    </tr>\n",
              "    <tr>\n",
              "      <th>18751</th>\n",
              "      <td>2009-02-03</td>\n",
              "      <td>725330</td>\n",
              "      <td>8.1</td>\n",
              "      <td>False</td>\n",
              "    </tr>\n",
              "    <tr>\n",
              "      <th>18752</th>\n",
              "      <td>2009-02-04</td>\n",
              "      <td>725330</td>\n",
              "      <td>8.3</td>\n",
              "      <td>False</td>\n",
              "    </tr>\n",
              "    <tr>\n",
              "      <th>18753</th>\n",
              "      <td>2009-02-05</td>\n",
              "      <td>725330</td>\n",
              "      <td>9.7</td>\n",
              "      <td>False</td>\n",
              "    </tr>\n",
              "    <tr>\n",
              "      <th>18754</th>\n",
              "      <td>2009-02-06</td>\n",
              "      <td>725330</td>\n",
              "      <td>10.0</td>\n",
              "      <td>False</td>\n",
              "    </tr>\n",
              "    <tr>\n",
              "      <th>18755</th>\n",
              "      <td>2009-02-07</td>\n",
              "      <td>725330</td>\n",
              "      <td>10.0</td>\n",
              "      <td>False</td>\n",
              "    </tr>\n",
              "  </tbody>\n",
              "</table>\n",
              "<p>14890 rows × 4 columns</p>\n",
              "</div>"
            ],
            "text/plain": [
              "             date  station_number  mean_visibility   snow\n",
              "0      2005-01-01          725300              9.9  False\n",
              "1      2005-01-02          725300              6.1   True\n",
              "2      2005-01-03          725300              6.3   True\n",
              "3      2005-01-04          725300              7.7   True\n",
              "4      2005-01-05          725300              2.0   True\n",
              "...           ...             ...              ...    ...\n",
              "18751  2009-02-03          725330              8.1  False\n",
              "18752  2009-02-04          725330              8.3  False\n",
              "18753  2009-02-05          725330              9.7  False\n",
              "18754  2009-02-06          725330             10.0  False\n",
              "18755  2009-02-07          725330             10.0  False\n",
              "\n",
              "[14890 rows x 4 columns]"
            ]
          },
          "metadata": {
            "tags": []
          },
          "execution_count": 27
        }
      ]
    },
    {
      "cell_type": "markdown",
      "metadata": {
        "id": "8g7_xf9Q9Lf_"
      },
      "source": [
        "So our train set covers roughly 4 years of data from 2005-1-1 to 2009-2-6"
      ]
    },
    {
      "cell_type": "code",
      "metadata": {
        "colab": {
          "base_uri": "https://localhost:8080/",
          "height": 419
        },
        "id": "moGswlABMM33",
        "outputId": "e3157aa7-de74-456f-8e52-2858195062a1"
      },
      "source": [
        "val_data = data[(data['date'] > train_end_date) & (data['date'] <= val_end_date)]\n",
        "val_data"
      ],
      "execution_count": 28,
      "outputs": [
        {
          "output_type": "execute_result",
          "data": {
            "text/html": [
              "<div>\n",
              "<style scoped>\n",
              "    .dataframe tbody tr th:only-of-type {\n",
              "        vertical-align: middle;\n",
              "    }\n",
              "\n",
              "    .dataframe tbody tr th {\n",
              "        vertical-align: top;\n",
              "    }\n",
              "\n",
              "    .dataframe thead th {\n",
              "        text-align: right;\n",
              "    }\n",
              "</style>\n",
              "<table border=\"1\" class=\"dataframe\">\n",
              "  <thead>\n",
              "    <tr style=\"text-align: right;\">\n",
              "      <th></th>\n",
              "      <th>date</th>\n",
              "      <th>station_number</th>\n",
              "      <th>mean_visibility</th>\n",
              "      <th>snow</th>\n",
              "    </tr>\n",
              "  </thead>\n",
              "  <tbody>\n",
              "    <tr>\n",
              "      <th>1495</th>\n",
              "      <td>2009-02-08</td>\n",
              "      <td>725300</td>\n",
              "      <td>7.9</td>\n",
              "      <td>False</td>\n",
              "    </tr>\n",
              "    <tr>\n",
              "      <th>1496</th>\n",
              "      <td>2009-02-09</td>\n",
              "      <td>725300</td>\n",
              "      <td>4.1</td>\n",
              "      <td>False</td>\n",
              "    </tr>\n",
              "    <tr>\n",
              "      <th>1497</th>\n",
              "      <td>2009-02-10</td>\n",
              "      <td>725300</td>\n",
              "      <td>9.1</td>\n",
              "      <td>False</td>\n",
              "    </tr>\n",
              "    <tr>\n",
              "      <th>1498</th>\n",
              "      <td>2009-02-11</td>\n",
              "      <td>725300</td>\n",
              "      <td>4.9</td>\n",
              "      <td>True</td>\n",
              "    </tr>\n",
              "    <tr>\n",
              "      <th>1499</th>\n",
              "      <td>2009-02-12</td>\n",
              "      <td>725300</td>\n",
              "      <td>10.0</td>\n",
              "      <td>False</td>\n",
              "    </tr>\n",
              "    <tr>\n",
              "      <th>...</th>\n",
              "      <td>...</td>\n",
              "      <td>...</td>\n",
              "      <td>...</td>\n",
              "      <td>...</td>\n",
              "    </tr>\n",
              "    <tr>\n",
              "      <th>19116</th>\n",
              "      <td>2010-02-03</td>\n",
              "      <td>725330</td>\n",
              "      <td>3.8</td>\n",
              "      <td>False</td>\n",
              "    </tr>\n",
              "    <tr>\n",
              "      <th>19117</th>\n",
              "      <td>2010-02-04</td>\n",
              "      <td>725330</td>\n",
              "      <td>8.2</td>\n",
              "      <td>False</td>\n",
              "    </tr>\n",
              "    <tr>\n",
              "      <th>19118</th>\n",
              "      <td>2010-02-05</td>\n",
              "      <td>725330</td>\n",
              "      <td>5.3</td>\n",
              "      <td>True</td>\n",
              "    </tr>\n",
              "    <tr>\n",
              "      <th>19119</th>\n",
              "      <td>2010-02-06</td>\n",
              "      <td>725330</td>\n",
              "      <td>5.8</td>\n",
              "      <td>False</td>\n",
              "    </tr>\n",
              "    <tr>\n",
              "      <th>19120</th>\n",
              "      <td>2010-02-07</td>\n",
              "      <td>725330</td>\n",
              "      <td>10.0</td>\n",
              "      <td>False</td>\n",
              "    </tr>\n",
              "  </tbody>\n",
              "</table>\n",
              "<p>3619 rows × 4 columns</p>\n",
              "</div>"
            ],
            "text/plain": [
              "             date  station_number  mean_visibility   snow\n",
              "1495   2009-02-08          725300              7.9  False\n",
              "1496   2009-02-09          725300              4.1  False\n",
              "1497   2009-02-10          725300              9.1  False\n",
              "1498   2009-02-11          725300              4.9   True\n",
              "1499   2009-02-12          725300             10.0  False\n",
              "...           ...             ...              ...    ...\n",
              "19116  2010-02-03          725330              3.8  False\n",
              "19117  2010-02-04          725330              8.2  False\n",
              "19118  2010-02-05          725330              5.3   True\n",
              "19119  2010-02-06          725330              5.8  False\n",
              "19120  2010-02-07          725330             10.0  False\n",
              "\n",
              "[3619 rows x 4 columns]"
            ]
          },
          "metadata": {
            "tags": []
          },
          "execution_count": 28
        }
      ]
    },
    {
      "cell_type": "markdown",
      "metadata": {
        "id": "rEdTB7Rb9YY4"
      },
      "source": [
        "Our validation set is the data of the whole year before the test set"
      ]
    },
    {
      "cell_type": "code",
      "metadata": {
        "colab": {
          "base_uri": "https://localhost:8080/",
          "height": 419
        },
        "id": "5pW_pTTPMwIh",
        "outputId": "641888b1-7534-4041-e139-e0bafbdfc8cb"
      },
      "source": [
        "test_data = data[(data['date'] > val_end_date) & (data['date'] <= target_date)]\n",
        "test_data"
      ],
      "execution_count": 29,
      "outputs": [
        {
          "output_type": "execute_result",
          "data": {
            "text/html": [
              "<div>\n",
              "<style scoped>\n",
              "    .dataframe tbody tr th:only-of-type {\n",
              "        vertical-align: middle;\n",
              "    }\n",
              "\n",
              "    .dataframe tbody tr th {\n",
              "        vertical-align: top;\n",
              "    }\n",
              "\n",
              "    .dataframe thead th {\n",
              "        text-align: right;\n",
              "    }\n",
              "</style>\n",
              "<table border=\"1\" class=\"dataframe\">\n",
              "  <thead>\n",
              "    <tr style=\"text-align: right;\">\n",
              "      <th></th>\n",
              "      <th>date</th>\n",
              "      <th>station_number</th>\n",
              "      <th>mean_visibility</th>\n",
              "      <th>snow</th>\n",
              "    </tr>\n",
              "  </thead>\n",
              "  <tbody>\n",
              "    <tr>\n",
              "      <th>1860</th>\n",
              "      <td>2010-02-08</td>\n",
              "      <td>725300</td>\n",
              "      <td>10.0</td>\n",
              "      <td>False</td>\n",
              "    </tr>\n",
              "    <tr>\n",
              "      <th>1861</th>\n",
              "      <td>2010-02-09</td>\n",
              "      <td>725300</td>\n",
              "      <td>3.9</td>\n",
              "      <td>True</td>\n",
              "    </tr>\n",
              "    <tr>\n",
              "      <th>1862</th>\n",
              "      <td>2010-02-10</td>\n",
              "      <td>725300</td>\n",
              "      <td>6.0</td>\n",
              "      <td>True</td>\n",
              "    </tr>\n",
              "    <tr>\n",
              "      <th>1863</th>\n",
              "      <td>2010-02-11</td>\n",
              "      <td>725300</td>\n",
              "      <td>10.0</td>\n",
              "      <td>False</td>\n",
              "    </tr>\n",
              "    <tr>\n",
              "      <th>1864</th>\n",
              "      <td>2010-02-12</td>\n",
              "      <td>725300</td>\n",
              "      <td>10.0</td>\n",
              "      <td>False</td>\n",
              "    </tr>\n",
              "    <tr>\n",
              "      <th>...</th>\n",
              "      <td>...</td>\n",
              "      <td>...</td>\n",
              "      <td>...</td>\n",
              "      <td>...</td>\n",
              "    </tr>\n",
              "    <tr>\n",
              "      <th>19177</th>\n",
              "      <td>2010-04-05</td>\n",
              "      <td>725330</td>\n",
              "      <td>10.0</td>\n",
              "      <td>False</td>\n",
              "    </tr>\n",
              "    <tr>\n",
              "      <th>19178</th>\n",
              "      <td>2010-04-06</td>\n",
              "      <td>725330</td>\n",
              "      <td>10.0</td>\n",
              "      <td>False</td>\n",
              "    </tr>\n",
              "    <tr>\n",
              "      <th>19179</th>\n",
              "      <td>2010-04-07</td>\n",
              "      <td>725330</td>\n",
              "      <td>9.0</td>\n",
              "      <td>False</td>\n",
              "    </tr>\n",
              "    <tr>\n",
              "      <th>19180</th>\n",
              "      <td>2010-04-08</td>\n",
              "      <td>725330</td>\n",
              "      <td>8.2</td>\n",
              "      <td>False</td>\n",
              "    </tr>\n",
              "    <tr>\n",
              "      <th>19181</th>\n",
              "      <td>2010-04-09</td>\n",
              "      <td>725330</td>\n",
              "      <td>10.0</td>\n",
              "      <td>False</td>\n",
              "    </tr>\n",
              "  </tbody>\n",
              "</table>\n",
              "<p>610 rows × 4 columns</p>\n",
              "</div>"
            ],
            "text/plain": [
              "             date  station_number  mean_visibility   snow\n",
              "1860   2010-02-08          725300             10.0  False\n",
              "1861   2010-02-09          725300              3.9   True\n",
              "1862   2010-02-10          725300              6.0   True\n",
              "1863   2010-02-11          725300             10.0  False\n",
              "1864   2010-02-12          725300             10.0  False\n",
              "...           ...             ...              ...    ...\n",
              "19177  2010-04-05          725330             10.0  False\n",
              "19178  2010-04-06          725330             10.0  False\n",
              "19179  2010-04-07          725330              9.0  False\n",
              "19180  2010-04-08          725330              8.2  False\n",
              "19181  2010-04-09          725330             10.0  False\n",
              "\n",
              "[610 rows x 4 columns]"
            ]
          },
          "metadata": {
            "tags": []
          },
          "execution_count": 29
        }
      ]
    },
    {
      "cell_type": "markdown",
      "metadata": {
        "id": "ZRFF8mVU9nFs"
      },
      "source": [
        "As I explained above, test set covers 61 days of data (window size + the target date, which will be used as the labels for the time windows), accross 10 stations, thus we have 610 rows."
      ]
    },
    {
      "cell_type": "markdown",
      "metadata": {
        "id": "2PjsAC15bjxh"
      },
      "source": [
        "## Part 2\n",
        "**If you made it up to here all by yourself, you can use your prepared dataset to train an Algorithm of your choice to forecast whether it will snow on the following date for each station in this dataset:**"
      ]
    },
    {
      "cell_type": "markdown",
      "metadata": {
        "id": "Kmg_lbuDbjxh"
      },
      "source": [
        "**You are allowed to use any library you are comfortable with such as sklearn, tensorflow keras etc.**\n",
        "**If you did not manage to finish part one feel free to use the data provided in 'coding_challenge.csv' Note that this data does not represent a solution to Part 1.**"
      ]
    },
    {
      "cell_type": "markdown",
      "metadata": {
        "id": "Xc0CdiPJ0PbD"
      },
      "source": [
        "Before we start training the classifier, first we will normalize the data"
      ]
    },
    {
      "cell_type": "code",
      "metadata": {
        "id": "DFqojzBfbjxi"
      },
      "source": [
        "std_scaler = StandardScaler()\n",
        "\n",
        "# The only numerical column is 'mean_visibility'\n",
        "# So we normalize only that one, which is the 2nd last column of our data\n",
        "train_data.iloc[:, -2] = std_scaler.fit_transform(train_data.iloc[:, -2].values.reshape(-1, 1))\n",
        "\n",
        "# Validation and test sets will not be included to fit the scaler\n",
        "val_data.iloc[:, -2] = std_scaler.transform(val_data.iloc[:, -2].values.reshape(-1, 1))\n",
        "test_data.iloc[:, -2] = std_scaler.transform(test_data.iloc[:, -2].values.reshape(-1, 1))"
      ],
      "execution_count": null,
      "outputs": []
    },
    {
      "cell_type": "markdown",
      "metadata": {
        "id": "UHKJdWfrVC5W"
      },
      "source": [
        "### Classification"
      ]
    },
    {
      "cell_type": "markdown",
      "metadata": {
        "id": "qGC9IkclxqbX"
      },
      "source": [
        "#### Data Preprocessing for the Classifier"
      ]
    },
    {
      "cell_type": "markdown",
      "metadata": {
        "id": "9TZ8KE_a2tfb"
      },
      "source": [
        "Since we are asked to predict the snow for each station, we can include station numbers as one-hot encoded dummy variables to use them as features for the classifier"
      ]
    },
    {
      "cell_type": "code",
      "metadata": {
        "id": "ejnnllQlWWnp"
      },
      "source": [
        "def get_station_dummies(data):\n",
        "    '''\n",
        "    Get dummy variables for each station in the data\n",
        "\n",
        "    data: pd.DataFrame object to add dummies\n",
        "    '''\n",
        "    data = pd.concat((data, pd.get_dummies(data['station_number'])), axis=1)\n",
        "    data.drop(columns=[\"station_number\"], inplace=True)\n",
        "    return data"
      ],
      "execution_count": 31,
      "outputs": []
    },
    {
      "cell_type": "code",
      "metadata": {
        "colab": {
          "base_uri": "https://localhost:8080/",
          "height": 419
        },
        "id": "PJo9snRZxsmT",
        "outputId": "4de63c16-4f54-4197-a84b-253776fe8de0"
      },
      "source": [
        "train_data_clf = get_station_dummies(train_data)\n",
        "train_data_clf"
      ],
      "execution_count": 32,
      "outputs": [
        {
          "output_type": "execute_result",
          "data": {
            "text/html": [
              "<div>\n",
              "<style scoped>\n",
              "    .dataframe tbody tr th:only-of-type {\n",
              "        vertical-align: middle;\n",
              "    }\n",
              "\n",
              "    .dataframe tbody tr th {\n",
              "        vertical-align: top;\n",
              "    }\n",
              "\n",
              "    .dataframe thead th {\n",
              "        text-align: right;\n",
              "    }\n",
              "</style>\n",
              "<table border=\"1\" class=\"dataframe\">\n",
              "  <thead>\n",
              "    <tr style=\"text-align: right;\">\n",
              "      <th></th>\n",
              "      <th>date</th>\n",
              "      <th>mean_visibility</th>\n",
              "      <th>snow</th>\n",
              "      <th>725300</th>\n",
              "      <th>725305</th>\n",
              "      <th>725314</th>\n",
              "      <th>725315</th>\n",
              "      <th>725316</th>\n",
              "      <th>725317</th>\n",
              "      <th>725320</th>\n",
              "      <th>725326</th>\n",
              "      <th>725327</th>\n",
              "      <th>725330</th>\n",
              "    </tr>\n",
              "  </thead>\n",
              "  <tbody>\n",
              "    <tr>\n",
              "      <th>0</th>\n",
              "      <td>2005-01-01</td>\n",
              "      <td>0.699144</td>\n",
              "      <td>False</td>\n",
              "      <td>1</td>\n",
              "      <td>0</td>\n",
              "      <td>0</td>\n",
              "      <td>0</td>\n",
              "      <td>0</td>\n",
              "      <td>0</td>\n",
              "      <td>0</td>\n",
              "      <td>0</td>\n",
              "      <td>0</td>\n",
              "      <td>0</td>\n",
              "    </tr>\n",
              "    <tr>\n",
              "      <th>1</th>\n",
              "      <td>2005-01-02</td>\n",
              "      <td>-1.479676</td>\n",
              "      <td>True</td>\n",
              "      <td>1</td>\n",
              "      <td>0</td>\n",
              "      <td>0</td>\n",
              "      <td>0</td>\n",
              "      <td>0</td>\n",
              "      <td>0</td>\n",
              "      <td>0</td>\n",
              "      <td>0</td>\n",
              "      <td>0</td>\n",
              "      <td>0</td>\n",
              "    </tr>\n",
              "    <tr>\n",
              "      <th>2</th>\n",
              "      <td>2005-01-03</td>\n",
              "      <td>-1.365001</td>\n",
              "      <td>True</td>\n",
              "      <td>1</td>\n",
              "      <td>0</td>\n",
              "      <td>0</td>\n",
              "      <td>0</td>\n",
              "      <td>0</td>\n",
              "      <td>0</td>\n",
              "      <td>0</td>\n",
              "      <td>0</td>\n",
              "      <td>0</td>\n",
              "      <td>0</td>\n",
              "    </tr>\n",
              "    <tr>\n",
              "      <th>3</th>\n",
              "      <td>2005-01-04</td>\n",
              "      <td>-0.562278</td>\n",
              "      <td>True</td>\n",
              "      <td>1</td>\n",
              "      <td>0</td>\n",
              "      <td>0</td>\n",
              "      <td>0</td>\n",
              "      <td>0</td>\n",
              "      <td>0</td>\n",
              "      <td>0</td>\n",
              "      <td>0</td>\n",
              "      <td>0</td>\n",
              "      <td>0</td>\n",
              "    </tr>\n",
              "    <tr>\n",
              "      <th>4</th>\n",
              "      <td>2005-01-05</td>\n",
              "      <td>-3.830508</td>\n",
              "      <td>True</td>\n",
              "      <td>1</td>\n",
              "      <td>0</td>\n",
              "      <td>0</td>\n",
              "      <td>0</td>\n",
              "      <td>0</td>\n",
              "      <td>0</td>\n",
              "      <td>0</td>\n",
              "      <td>0</td>\n",
              "      <td>0</td>\n",
              "      <td>0</td>\n",
              "    </tr>\n",
              "    <tr>\n",
              "      <th>...</th>\n",
              "      <td>...</td>\n",
              "      <td>...</td>\n",
              "      <td>...</td>\n",
              "      <td>...</td>\n",
              "      <td>...</td>\n",
              "      <td>...</td>\n",
              "      <td>...</td>\n",
              "      <td>...</td>\n",
              "      <td>...</td>\n",
              "      <td>...</td>\n",
              "      <td>...</td>\n",
              "      <td>...</td>\n",
              "      <td>...</td>\n",
              "    </tr>\n",
              "    <tr>\n",
              "      <th>18751</th>\n",
              "      <td>2009-02-03</td>\n",
              "      <td>-0.332928</td>\n",
              "      <td>False</td>\n",
              "      <td>0</td>\n",
              "      <td>0</td>\n",
              "      <td>0</td>\n",
              "      <td>0</td>\n",
              "      <td>0</td>\n",
              "      <td>0</td>\n",
              "      <td>0</td>\n",
              "      <td>0</td>\n",
              "      <td>0</td>\n",
              "      <td>1</td>\n",
              "    </tr>\n",
              "    <tr>\n",
              "      <th>18752</th>\n",
              "      <td>2009-02-04</td>\n",
              "      <td>-0.218253</td>\n",
              "      <td>False</td>\n",
              "      <td>0</td>\n",
              "      <td>0</td>\n",
              "      <td>0</td>\n",
              "      <td>0</td>\n",
              "      <td>0</td>\n",
              "      <td>0</td>\n",
              "      <td>0</td>\n",
              "      <td>0</td>\n",
              "      <td>0</td>\n",
              "      <td>1</td>\n",
              "    </tr>\n",
              "    <tr>\n",
              "      <th>18753</th>\n",
              "      <td>2009-02-05</td>\n",
              "      <td>0.584469</td>\n",
              "      <td>False</td>\n",
              "      <td>0</td>\n",
              "      <td>0</td>\n",
              "      <td>0</td>\n",
              "      <td>0</td>\n",
              "      <td>0</td>\n",
              "      <td>0</td>\n",
              "      <td>0</td>\n",
              "      <td>0</td>\n",
              "      <td>0</td>\n",
              "      <td>1</td>\n",
              "    </tr>\n",
              "    <tr>\n",
              "      <th>18754</th>\n",
              "      <td>2009-02-06</td>\n",
              "      <td>0.756482</td>\n",
              "      <td>False</td>\n",
              "      <td>0</td>\n",
              "      <td>0</td>\n",
              "      <td>0</td>\n",
              "      <td>0</td>\n",
              "      <td>0</td>\n",
              "      <td>0</td>\n",
              "      <td>0</td>\n",
              "      <td>0</td>\n",
              "      <td>0</td>\n",
              "      <td>1</td>\n",
              "    </tr>\n",
              "    <tr>\n",
              "      <th>18755</th>\n",
              "      <td>2009-02-07</td>\n",
              "      <td>0.756482</td>\n",
              "      <td>False</td>\n",
              "      <td>0</td>\n",
              "      <td>0</td>\n",
              "      <td>0</td>\n",
              "      <td>0</td>\n",
              "      <td>0</td>\n",
              "      <td>0</td>\n",
              "      <td>0</td>\n",
              "      <td>0</td>\n",
              "      <td>0</td>\n",
              "      <td>1</td>\n",
              "    </tr>\n",
              "  </tbody>\n",
              "</table>\n",
              "<p>14890 rows × 13 columns</p>\n",
              "</div>"
            ],
            "text/plain": [
              "             date  mean_visibility   snow  ...  725326  725327  725330\n",
              "0      2005-01-01         0.699144  False  ...       0       0       0\n",
              "1      2005-01-02        -1.479676   True  ...       0       0       0\n",
              "2      2005-01-03        -1.365001   True  ...       0       0       0\n",
              "3      2005-01-04        -0.562278   True  ...       0       0       0\n",
              "4      2005-01-05        -3.830508   True  ...       0       0       0\n",
              "...           ...              ...    ...  ...     ...     ...     ...\n",
              "18751  2009-02-03        -0.332928  False  ...       0       0       1\n",
              "18752  2009-02-04        -0.218253  False  ...       0       0       1\n",
              "18753  2009-02-05         0.584469  False  ...       0       0       1\n",
              "18754  2009-02-06         0.756482  False  ...       0       0       1\n",
              "18755  2009-02-07         0.756482  False  ...       0       0       1\n",
              "\n",
              "[14890 rows x 13 columns]"
            ]
          },
          "metadata": {
            "tags": []
          },
          "execution_count": 32
        }
      ]
    },
    {
      "cell_type": "code",
      "metadata": {
        "id": "u5KtemKrXpJg"
      },
      "source": [
        "val_data_clf = get_station_dummies(val_data)\n",
        "test_data_clf = get_station_dummies(test_data)"
      ],
      "execution_count": 33,
      "outputs": []
    },
    {
      "cell_type": "code",
      "metadata": {
        "id": "3iBiMG-hzIhB"
      },
      "source": [
        "label_encoder = LabelEncoder() # to encode labels as 0s and 1s instead of True and False\n",
        "\n",
        "clf_features = [1, 3, 4, 5, 6, 7, 8, 9, 10, 11, 12] # relevant column indexes except 'date' and 'snow'\n",
        "\n",
        "x_train_clf = train_data_clf.iloc[:, clf_features]\n",
        "y_train_clf = label_encoder.fit_transform(train_data['snow'])\n",
        "\n",
        "x_val_clf = val_data_clf.iloc[:, clf_features]\n",
        "y_val_clf = label_encoder.fit_transform(val_data['snow'])\n",
        "\n",
        "x_test_clf = test_data_clf.iloc[:, clf_features]\n",
        "y_test_clf = label_encoder.fit_transform(test_data['snow'])"
      ],
      "execution_count": 34,
      "outputs": []
    },
    {
      "cell_type": "markdown",
      "metadata": {
        "id": "_4GP0I2I3phO"
      },
      "source": [
        "Our inputs for training the classifier looks like this. Now we can start training."
      ]
    },
    {
      "cell_type": "code",
      "metadata": {
        "colab": {
          "base_uri": "https://localhost:8080/"
        },
        "id": "zXqpFtKKYidO",
        "outputId": "bc4e4218-33a8-44c0-fb1d-945ee25a7c11"
      },
      "source": [
        "x_train_clf.shape, y_train_clf.shape"
      ],
      "execution_count": 35,
      "outputs": [
        {
          "output_type": "execute_result",
          "data": {
            "text/plain": [
              "((14890, 11), (14890,))"
            ]
          },
          "metadata": {
            "tags": []
          },
          "execution_count": 35
        }
      ]
    },
    {
      "cell_type": "markdown",
      "metadata": {
        "id": "-tko2Bv4Y_WP"
      },
      "source": [
        "#### Training the Classifier"
      ]
    },
    {
      "cell_type": "markdown",
      "metadata": {
        "id": "fqKROmXh4Kq6"
      },
      "source": [
        "I will use a simple linear classifier with built-in cross validation. Other classification models, such as SVMs or Random Forests, can be used for this task as well, but I observed that the linear classifier is performing on the same level as them for this task, and it is way faster to do cross validate and train. "
      ]
    },
    {
      "cell_type": "code",
      "metadata": {
        "colab": {
          "base_uri": "https://localhost:8080/"
        },
        "id": "BmqCPGd_pW8Q",
        "outputId": "2b5478e5-6a6e-4cdb-866b-7fb3a20f44db"
      },
      "source": [
        "clf = RidgeClassifierCV(alphas=np.logspace(-3, 3, 10), normalize=False)\n",
        "clf.fit(x_train_clf, y_train_clf)"
      ],
      "execution_count": 36,
      "outputs": [
        {
          "output_type": "execute_result",
          "data": {
            "text/plain": [
              "RidgeClassifierCV(alphas=array([1.00000000e-03, 4.64158883e-03, 2.15443469e-02, 1.00000000e-01,\n",
              "       4.64158883e-01, 2.15443469e+00, 1.00000000e+01, 4.64158883e+01,\n",
              "       2.15443469e+02, 1.00000000e+03]),\n",
              "                  class_weight=None, cv=None, fit_intercept=True,\n",
              "                  normalize=False, scoring=None, store_cv_values=False)"
            ]
          },
          "metadata": {
            "tags": []
          },
          "execution_count": 36
        }
      ]
    },
    {
      "cell_type": "code",
      "metadata": {
        "id": "7BVzJJC-rZcU"
      },
      "source": [
        "def clf_report(x, y):\n",
        "    '''\n",
        "    A helper function to report classification results after training. \n",
        "    \n",
        "    x: array of data points to predict\n",
        "    y: true labels\n",
        "    '''\n",
        "    # Classification Report\n",
        "    preds = clf.predict(x)\n",
        "    print(classification_report(y, preds))\n",
        "\n",
        "    # Confusion Matrix\n",
        "    cm = confusion_matrix(y, preds)\n",
        "    palette = sns.color_palette(\"Blues\", as_cmap=True)\n",
        "    sns.heatmap(cm, annot=True, fmt='.0f', cmap=palette, cbar=False)\n",
        "    plt.xlabel('Predicted')\n",
        "    plt.ylabel('Observed')\n",
        "    plt.show()"
      ],
      "execution_count": 37,
      "outputs": []
    },
    {
      "cell_type": "code",
      "metadata": {
        "colab": {
          "base_uri": "https://localhost:8080/",
          "height": 432
        },
        "id": "ZbEm_E32s3KY",
        "outputId": "c4e8ad0a-ea0a-48c3-acda-050f57c2c6f1"
      },
      "source": [
        "clf_report(x_train_clf, y_train_clf)"
      ],
      "execution_count": 38,
      "outputs": [
        {
          "output_type": "stream",
          "text": [
            "              precision    recall  f1-score   support\n",
            "\n",
            "           0       0.90      0.98      0.94     13012\n",
            "           1       0.65      0.20      0.31      1878\n",
            "\n",
            "    accuracy                           0.89     14890\n",
            "   macro avg       0.77      0.59      0.62     14890\n",
            "weighted avg       0.86      0.89      0.86     14890\n",
            "\n"
          ],
          "name": "stdout"
        },
        {
          "output_type": "display_data",
          "data": {
            "image/png": "[encoded data removed]",
            "text/plain": [
              "<Figure size 432x288 with 1 Axes>"
            ]
          },
          "metadata": {
            "tags": [],
            "needs_background": "light"
          }
        }
      ]
    },
    {
      "cell_type": "code",
      "metadata": {
        "colab": {
          "base_uri": "https://localhost:8080/",
          "height": 432
        },
        "id": "wYiU5dc0s_D6",
        "outputId": "30efc43b-4752-44aa-b09c-94753bd2dbc3"
      },
      "source": [
        "clf_report(x_val_clf, y_val_clf)"
      ],
      "execution_count": 39,
      "outputs": [
        {
          "output_type": "stream",
          "text": [
            "              precision    recall  f1-score   support\n",
            "\n",
            "           0       0.93      0.97      0.95      3287\n",
            "           1       0.50      0.27      0.35       332\n",
            "\n",
            "    accuracy                           0.91      3619\n",
            "   macro avg       0.72      0.62      0.65      3619\n",
            "weighted avg       0.89      0.91      0.90      3619\n",
            "\n"
          ],
          "name": "stdout"
        },
        {
          "output_type": "display_data",
          "data": {
            "image/png": "[encoded data removed]",
            "text/plain": [
              "<Figure size 432x288 with 1 Axes>"
            ]
          },
          "metadata": {
            "tags": [],
            "needs_background": "light"
          }
        }
      ]
    },
    {
      "cell_type": "code",
      "metadata": {
        "colab": {
          "base_uri": "https://localhost:8080/",
          "height": 432
        },
        "id": "JjOOa9Ges_Zx",
        "outputId": "1c1208d6-3db3-4236-b38d-fa49b6e0186c"
      },
      "source": [
        "clf_report(x_test_clf, y_test_clf)"
      ],
      "execution_count": 40,
      "outputs": [
        {
          "output_type": "stream",
          "text": [
            "              precision    recall  f1-score   support\n",
            "\n",
            "           0       0.93      0.95      0.94       546\n",
            "           1       0.50      0.42      0.46        64\n",
            "\n",
            "    accuracy                           0.90       610\n",
            "   macro avg       0.72      0.69      0.70       610\n",
            "weighted avg       0.89      0.90      0.89       610\n",
            "\n"
          ],
          "name": "stdout"
        },
        {
          "output_type": "display_data",
          "data": {
            "image/png": "[encoded data removed]",
            "text/plain": [
              "<Figure size 432x288 with 1 Axes>"
            ]
          },
          "metadata": {
            "tags": [],
            "needs_background": "light"
          }
        }
      ]
    },
    {
      "cell_type": "markdown",
      "metadata": {
        "id": "Eynftpfk5hIp"
      },
      "source": [
        "Classification results are not ideal, but not that bad either. The results look similar on all three sets, which indicates there is at least no sign of overfitting. \n",
        "\n",
        "First thing that srikes is the low recall for snowy days. This is probably mostly due to the lack of snowy days in data and the features we use are not that much correlated with snow. \n",
        "\n",
        "There is a trade-off here, I tried giving class weights to the classifier to balance the positive and negative samples. It increased the recall for snow, but it came with the cost of lower F1 scores overall. Thus, I decided to keep the biased classifier."
      ]
    },
    {
      "cell_type": "code",
      "metadata": {
        "id": "HeIJI37A0kiW"
      },
      "source": [
        "# Save the model as pickle file for later use\n",
        "with open('RidgeClassifier.pkl', 'wb') as f:\n",
        "    pickle.dump(clf, f)"
      ],
      "execution_count": 41,
      "outputs": []
    },
    {
      "cell_type": "markdown",
      "metadata": {
        "id": "Vh8YBJhnqWRL"
      },
      "source": [
        "### Forecasting"
      ]
    },
    {
      "cell_type": "markdown",
      "metadata": {
        "id": "iIYTvMJ2xz6S"
      },
      "source": [
        "#### Data Preprocessing for the RNN Model"
      ]
    },
    {
      "cell_type": "code",
      "metadata": {
        "colab": {
          "base_uri": "https://localhost:8080/",
          "height": 281
        },
        "id": "ANPWK50WEX1W",
        "outputId": "2f44a68d-f2a5-4953-d362-1da4074e128e"
      },
      "source": [
        "train_data.loc[train_data['station_number']==725300, ['mean_visibility']].plot()\n",
        "plt.title('Graph of the Mean Visibility for Station 725300')\n",
        "plt.show()"
      ],
      "execution_count": 42,
      "outputs": [
        {
          "output_type": "display_data",
          "data": {
            "image/png": "[encoded data removed]",
            "text/plain": [
              "<Figure size 432x288 with 1 Axes>"
            ]
          },
          "metadata": {
            "tags": [],
            "needs_background": "light"
          }
        }
      ]
    },
    {
      "cell_type": "markdown",
      "metadata": {
        "id": "rduLNc7f8AVw"
      },
      "source": [
        "While working on time series forecasting, it is advised to use non-stationary data to mitigate the effects of seasonality and trends. So, before training, we will transform our data by claculating the difference between two consecutive observations to make it non-stationary"
      ]
    },
    {
      "cell_type": "code",
      "metadata": {
        "id": "UNGZMmdNlLYz"
      },
      "source": [
        "def make_non_stationary(data):\n",
        "    '''\n",
        "    Takes a pd.DataFrame and returns transformed version of it after \n",
        "    calculating the difference between two consecutive obserbations\n",
        "\n",
        "    data: pd.DataFrame object to transform\n",
        "    '''\n",
        "    data_transformed = data.copy()\n",
        "    \n",
        "    # Transformation will be applied to the data of each station separately \n",
        "    # It will not make sense to calculate difference between the last value of \n",
        "    # a station and the first value of another station\n",
        "    for station in stations_to_keep:\n",
        "        data_transformed.loc[data['station_number']==station, ['mean_visibility']] = data_transformed.loc[data['station_number']==station, ['mean_visibility']].diff()\n",
        "    \n",
        "    # First rows for each station will be NaN values\n",
        "    # We fill them by copying the value of the next row instead of directly dropping them\n",
        "    data_transformed = data_transformed.fillna(method='bfill')\n",
        "    return data_transformed"
      ],
      "execution_count": 43,
      "outputs": []
    },
    {
      "cell_type": "markdown",
      "metadata": {
        "id": "eUINFUn-96_E"
      },
      "source": [
        "The default activation function for LSTM and GRU modules is the hyperbolic tangent (`tanh`) function, which outputs values between -1 and 1. Therfore we will scale the resulting transformed data again to make values within this range"
      ]
    },
    {
      "cell_type": "code",
      "metadata": {
        "id": "GZPC-N5N1aEx"
      },
      "source": [
        "minmax_scaler = MinMaxScaler(feature_range=(-1, 1))"
      ],
      "execution_count": 44,
      "outputs": []
    },
    {
      "cell_type": "code",
      "metadata": {
        "id": "J373iufdt9Tt"
      },
      "source": [
        "train_data_rnn = make_non_stationary(train_data)\n",
        "train_data_rnn.iloc[:, -2] = minmax_scaler.fit_transform(train_data_rnn.iloc[:, -2].values.reshape(-1, 1))"
      ],
      "execution_count": 45,
      "outputs": []
    },
    {
      "cell_type": "code",
      "metadata": {
        "colab": {
          "base_uri": "https://localhost:8080/",
          "height": 281
        },
        "id": "-rCrzPamycrA",
        "outputId": "458043e1-26a3-4e0e-97c6-02780695f2bc"
      },
      "source": [
        "train_data_rnn.loc[train_data_rnn['station_number']==725300, ['mean_visibility']].plot()\n",
        "plt.title('Graph of the Mean Visibility for Station 725300 After Transformation')\n",
        "plt.show()"
      ],
      "execution_count": 46,
      "outputs": [
        {
          "output_type": "display_data",
          "data": {
            "image/png": "[encoded data removed]",
            "text/plain": [
              "<Figure size 432x288 with 1 Axes>"
            ]
          },
          "metadata": {
            "tags": [],
            "needs_background": "light"
          }
        }
      ]
    },
    {
      "cell_type": "markdown",
      "metadata": {
        "id": "5iYk6PfG-oJB"
      },
      "source": [
        "Here is how the same data above looks like after making it non-stationary"
      ]
    },
    {
      "cell_type": "code",
      "metadata": {
        "id": "rccHYMRqvPwA"
      },
      "source": [
        "# Apply the same for validation and test sets\n",
        "val_data_rnn = make_non_stationary(val_data)\n",
        "val_data_rnn.iloc[:, -2] = minmax_scaler.transform(val_data_rnn.iloc[:, -2].values.reshape(-1, 1))\n",
        "\n",
        "test_data_rnn = make_non_stationary(test_data)\n",
        "test_data_rnn.iloc[:, -2] = minmax_scaler.transform(test_data_rnn.iloc[:, -2].values.reshape(-1, 1))"
      ],
      "execution_count": 47,
      "outputs": []
    },
    {
      "cell_type": "code",
      "metadata": {
        "id": "hv9lDse0vc7D"
      },
      "source": [
        "num_features = 1 # The only feature we will forecast is 'mean_visibility'\n",
        "\n",
        "def extract_windows(df, window_size):\n",
        "    '''\n",
        "    Extract windows and their respective labels from the given data.\n",
        "\n",
        "    df: pd.DataFrame object to extract windows from\n",
        "    window_size: integer value to determine window size\n",
        "    '''\n",
        "\n",
        "    x = []\n",
        "    labels = []\n",
        "\n",
        "    # Windows will be extracted seperately for each station\n",
        "    for station in stations_to_keep:\n",
        "        temp_ = df[df['station_number'] == station]  # a temporal dataframe \n",
        "        for i in range(0, len(temp_) - window_size):\n",
        "            # get the values for the time window starting from the current index\n",
        "            x_ = temp_.iloc[i : i + window_size]    \n",
        "            x.append(x_['mean_visibility'].values)\n",
        "\n",
        "            # get the value at the next index as the label for this time window\n",
        "            labels.append(temp_.iloc[i + window_size, -2])\n",
        "\n",
        "\n",
        "    x_train = np.zeros((len(x), window_size, num_features))\n",
        "    x = np.asarray(x, dtype=float)\n",
        "\n",
        "    for i in range(len(x)):\n",
        "        x_train[i] = x[i].reshape(-1, 1)  # match the shapes\n",
        "\n",
        "    y_train = np.asarray(labels)\n",
        "\n",
        "    return x_train, y_train"
      ],
      "execution_count": 48,
      "outputs": []
    },
    {
      "cell_type": "code",
      "metadata": {
        "colab": {
          "base_uri": "https://localhost:8080/"
        },
        "id": "RVlZM9aZvjNV",
        "outputId": "9dfa373b-1daf-4538-e180-22181d013636"
      },
      "source": [
        "x_train_rnn, y_train_rnn = extract_windows(train_data_rnn, window_size)\n",
        "x_train_rnn.shape, y_train_rnn.shape"
      ],
      "execution_count": 49,
      "outputs": [
        {
          "output_type": "execute_result",
          "data": {
            "text/plain": [
              "((14290, 60, 1), (14290,))"
            ]
          },
          "metadata": {
            "tags": []
          },
          "execution_count": 49
        }
      ]
    },
    {
      "cell_type": "code",
      "metadata": {
        "colab": {
          "base_uri": "https://localhost:8080/"
        },
        "id": "9pFEoruivw9v",
        "outputId": "f75c04c2-3e08-4cb8-8ddc-2800f54364a8"
      },
      "source": [
        "x_val_rnn, y_val_rnn = extract_windows(val_data_rnn, window_size)\n",
        "x_val_rnn.shape, y_val_rnn.shape"
      ],
      "execution_count": 50,
      "outputs": [
        {
          "output_type": "execute_result",
          "data": {
            "text/plain": [
              "((3019, 60, 1), (3019,))"
            ]
          },
          "metadata": {
            "tags": []
          },
          "execution_count": 50
        }
      ]
    },
    {
      "cell_type": "code",
      "metadata": {
        "colab": {
          "base_uri": "https://localhost:8080/"
        },
        "id": "YNoN_VDbvxjM",
        "outputId": "650a19b9-1abf-4ae8-e8bd-3f4ae318a484"
      },
      "source": [
        "x_test_rnn, y_test_rnn = extract_windows(test_data_rnn, window_size)\n",
        "x_test_rnn.shape, y_test_rnn.shape"
      ],
      "execution_count": 51,
      "outputs": [
        {
          "output_type": "execute_result",
          "data": {
            "text/plain": [
              "((10, 60, 1), (10,))"
            ]
          },
          "metadata": {
            "tags": []
          },
          "execution_count": 51
        }
      ]
    },
    {
      "cell_type": "markdown",
      "metadata": {
        "id": "yaGidihMAp54"
      },
      "source": [
        "Our test set is composed of 10 samples, 1 sample for each station with 60 days prior values. The labels for the test set is the observed `mean_visibility` values for the target date"
      ]
    },
    {
      "cell_type": "code",
      "metadata": {
        "colab": {
          "base_uri": "https://localhost:8080/",
          "height": 281
        },
        "id": "j6FI9viKwEpy",
        "outputId": "dd19d9c0-d5a3-492e-a17f-e79755091ae1"
      },
      "source": [
        "# Graph a random sample from the train set\n",
        "plt.plot(x_train_rnn[22])\n",
        "plt.title('Graph of a Random Sample from the Train Set')\n",
        "plt.show()"
      ],
      "execution_count": 52,
      "outputs": [
        {
          "output_type": "display_data",
          "data": {
            "image/png": "[encoded data removed]",
            "text/plain": [
              "<Figure size 432x288 with 1 Axes>"
            ]
          },
          "metadata": {
            "tags": [],
            "needs_background": "light"
          }
        }
      ]
    },
    {
      "cell_type": "markdown",
      "metadata": {
        "id": "bdOL5uSXx6WC"
      },
      "source": [
        "#### RNN Model Training"
      ]
    },
    {
      "cell_type": "markdown",
      "metadata": {
        "id": "epGyfllhBi76"
      },
      "source": [
        "We have a rather simple RNN model with 3 stacked LSTM layers and a linear (Dense) at the end, which will try to predict the next value given a time series of window size"
      ]
    },
    {
      "cell_type": "code",
      "metadata": {
        "id": "r3qUoFKew3qF"
      },
      "source": [
        "def LSTM_Model(input_shape, n_units):\n",
        "    '''\n",
        "    Creates and compiles the RNN Model. Returns a Keras model object and the model callbacks.\n",
        "\n",
        "    input_shape: tuple indicating the input shape for the RNN. (batch_size, n_timesteps, n_features)\n",
        "    n_units: integer value that defines the number of LSTM units in LSTM layers\n",
        "    '''\n",
        "\n",
        "    # Create the model\n",
        "    input_rnn = Input(input_shape)\n",
        "    z = LSTM(n_units, return_sequences=True)(input_rnn)\n",
        "    z = LSTM(n_units, return_sequences=True)(z)\n",
        "    z = LSTM(n_units)(z)\n",
        "\n",
        "    output_rnn = Dense(1)(z)\n",
        "    \n",
        "    model = Model(inputs=input_rnn, outputs=output_rnn)\n",
        "\n",
        "    # Compile the model\n",
        "    model.compile(loss='mse', optimizer=keras.optimizers.Adam())\n",
        "    print(model.summary())\n",
        "\n",
        "    # Define model callbacks for the training process\n",
        "    reduce_lr = keras.callbacks.ReduceLROnPlateau(monitor='val_loss', factor=0.5, patience=5,\n",
        "                                                      min_lr=0.0001) \n",
        "\n",
        "    file_path = f'LSTM_Model.hdf5'\n",
        "\n",
        "    model_checkpoint = keras.callbacks.ModelCheckpoint(filepath=file_path, monitor='val_loss',\n",
        "                                                        save_best_only=True)\n",
        "\n",
        "    callbacks = [reduce_lr, model_checkpoint]\n",
        "\n",
        "    return model, callbacks"
      ],
      "execution_count": 53,
      "outputs": []
    },
    {
      "cell_type": "markdown",
      "metadata": {
        "id": "BOtwPRmmCUgM"
      },
      "source": [
        "Here is how the model architecture looks like"
      ]
    },
    {
      "cell_type": "code",
      "metadata": {
        "colab": {
          "base_uri": "https://localhost:8080/"
        },
        "id": "mcFIXL3Jw6M7",
        "outputId": "4905176d-1fec-4e13-a84e-92bcb255daee"
      },
      "source": [
        "in_shape = x_train_rnn[0].shape\n",
        "nn_model, callbacks = LSTM_Model(in_shape, 32)"
      ],
      "execution_count": 54,
      "outputs": [
        {
          "output_type": "stream",
          "text": [
            "Model: \"model\"\n",
            "_________________________________________________________________\n",
            "Layer (type)                 Output Shape              Param #   \n",
            "=================================================================\n",
            "input_1 (InputLayer)         [(None, 60, 1)]           0         \n",
            "_________________________________________________________________\n",
            "lstm (LSTM)                  (None, 60, 32)            4352      \n",
            "_________________________________________________________________\n",
            "lstm_1 (LSTM)                (None, 60, 32)            8320      \n",
            "_________________________________________________________________\n",
            "lstm_2 (LSTM)                (None, 32)                8320      \n",
            "_________________________________________________________________\n",
            "dense (Dense)                (None, 1)                 33        \n",
            "=================================================================\n",
            "Total params: 21,025\n",
            "Trainable params: 21,025\n",
            "Non-trainable params: 0\n",
            "_________________________________________________________________\n",
            "None\n"
          ],
          "name": "stdout"
        }
      ]
    },
    {
      "cell_type": "markdown",
      "metadata": {
        "id": "ZCYTaitWCYzZ"
      },
      "source": [
        "Now we can fit this model to our data"
      ]
    },
    {
      "cell_type": "code",
      "metadata": {
        "colab": {
          "base_uri": "https://localhost:8080/"
        },
        "id": "c1rROmF8xDAh",
        "outputId": "399c03af-7bad-4c99-ad3b-3b2aabdbfd5a"
      },
      "source": [
        "history = nn_model.fit(\n",
        "    x_train_rnn,\n",
        "    y_train_rnn,\n",
        "    epochs=100,\n",
        "    batch_size = 512,\n",
        "    validation_data=(x_val_rnn, y_val_rnn),\n",
        "    callbacks=callbacks,\n",
        ")"
      ],
      "execution_count": 55,
      "outputs": [
        {
          "output_type": "stream",
          "text": [
            "Epoch 1/100\n",
            "28/28 [==============================] - 35s 58ms/step - loss: 0.0463 - val_loss: 0.0455\n",
            "Epoch 2/100\n",
            "28/28 [==============================] - 0s 13ms/step - loss: 0.0452 - val_loss: 0.0425\n",
            "Epoch 3/100\n",
            "28/28 [==============================] - 0s 13ms/step - loss: 0.0415 - val_loss: 0.0384\n",
            "Epoch 4/100\n",
            "28/28 [==============================] - 0s 13ms/step - loss: 0.0349 - val_loss: 0.0372\n",
            "Epoch 5/100\n",
            "28/28 [==============================] - 0s 14ms/step - loss: 0.0331 - val_loss: 0.0361\n",
            "Epoch 6/100\n",
            "28/28 [==============================] - 0s 13ms/step - loss: 0.0327 - val_loss: 0.0363\n",
            "Epoch 7/100\n",
            "28/28 [==============================] - 0s 14ms/step - loss: 0.0327 - val_loss: 0.0360\n",
            "Epoch 8/100\n",
            "28/28 [==============================] - 0s 15ms/step - loss: 0.0324 - val_loss: 0.0360\n",
            "Epoch 9/100\n",
            "28/28 [==============================] - 0s 14ms/step - loss: 0.0325 - val_loss: 0.0361\n",
            "Epoch 10/100\n",
            "28/28 [==============================] - 0s 13ms/step - loss: 0.0321 - val_loss: 0.0365\n",
            "Epoch 11/100\n",
            "28/28 [==============================] - 0s 14ms/step - loss: 0.0323 - val_loss: 0.0368\n",
            "Epoch 12/100\n",
            "28/28 [==============================] - 0s 13ms/step - loss: 0.0330 - val_loss: 0.0364\n",
            "Epoch 13/100\n",
            "28/28 [==============================] - 0s 16ms/step - loss: 0.0312 - val_loss: 0.0368\n",
            "Epoch 14/100\n",
            "28/28 [==============================] - 0s 14ms/step - loss: 0.0316 - val_loss: 0.0363\n",
            "Epoch 15/100\n",
            "28/28 [==============================] - 0s 13ms/step - loss: 0.0321 - val_loss: 0.0364\n",
            "Epoch 16/100\n",
            "28/28 [==============================] - 0s 15ms/step - loss: 0.0326 - val_loss: 0.0363\n",
            "Epoch 17/100\n",
            "28/28 [==============================] - 0s 15ms/step - loss: 0.0323 - val_loss: 0.0363\n",
            "Epoch 18/100\n",
            "28/28 [==============================] - 0s 13ms/step - loss: 0.0327 - val_loss: 0.0362\n",
            "Epoch 19/100\n",
            "28/28 [==============================] - 0s 13ms/step - loss: 0.0324 - val_loss: 0.0364\n",
            "Epoch 20/100\n",
            "28/28 [==============================] - 0s 14ms/step - loss: 0.0315 - val_loss: 0.0361\n",
            "Epoch 21/100\n",
            "28/28 [==============================] - 0s 13ms/step - loss: 0.0318 - val_loss: 0.0365\n",
            "Epoch 22/100\n",
            "28/28 [==============================] - 0s 16ms/step - loss: 0.0326 - val_loss: 0.0363\n",
            "Epoch 23/100\n",
            "28/28 [==============================] - 0s 14ms/step - loss: 0.0324 - val_loss: 0.0363\n",
            "Epoch 24/100\n",
            "28/28 [==============================] - 0s 13ms/step - loss: 0.0320 - val_loss: 0.0364\n",
            "Epoch 25/100\n",
            "28/28 [==============================] - 0s 13ms/step - loss: 0.0316 - val_loss: 0.0364\n",
            "Epoch 26/100\n",
            "28/28 [==============================] - 0s 13ms/step - loss: 0.0322 - val_loss: 0.0363\n",
            "Epoch 27/100\n",
            "28/28 [==============================] - 0s 14ms/step - loss: 0.0320 - val_loss: 0.0361\n",
            "Epoch 28/100\n",
            "28/28 [==============================] - 0s 15ms/step - loss: 0.0324 - val_loss: 0.0363\n",
            "Epoch 29/100\n",
            "28/28 [==============================] - 0s 16ms/step - loss: 0.0317 - val_loss: 0.0363\n",
            "Epoch 30/100\n",
            "28/28 [==============================] - 0s 14ms/step - loss: 0.0315 - val_loss: 0.0362\n",
            "Epoch 31/100\n",
            "28/28 [==============================] - 0s 14ms/step - loss: 0.0325 - val_loss: 0.0363\n",
            "Epoch 32/100\n",
            "28/28 [==============================] - 0s 13ms/step - loss: 0.0317 - val_loss: 0.0363\n",
            "Epoch 33/100\n",
            "28/28 [==============================] - 0s 13ms/step - loss: 0.0322 - val_loss: 0.0364\n",
            "Epoch 34/100\n",
            "28/28 [==============================] - 0s 14ms/step - loss: 0.0321 - val_loss: 0.0364\n",
            "Epoch 35/100\n",
            "28/28 [==============================] - 0s 13ms/step - loss: 0.0319 - val_loss: 0.0361\n",
            "Epoch 36/100\n",
            "28/28 [==============================] - 0s 13ms/step - loss: 0.0321 - val_loss: 0.0361\n",
            "Epoch 37/100\n",
            "28/28 [==============================] - 0s 13ms/step - loss: 0.0327 - val_loss: 0.0364\n",
            "Epoch 38/100\n",
            "28/28 [==============================] - 0s 14ms/step - loss: 0.0325 - val_loss: 0.0363\n",
            "Epoch 39/100\n",
            "28/28 [==============================] - 0s 13ms/step - loss: 0.0322 - val_loss: 0.0364\n",
            "Epoch 40/100\n",
            "28/28 [==============================] - 0s 13ms/step - loss: 0.0325 - val_loss: 0.0365\n",
            "Epoch 41/100\n",
            "28/28 [==============================] - 0s 13ms/step - loss: 0.0313 - val_loss: 0.0362\n",
            "Epoch 42/100\n",
            "28/28 [==============================] - 0s 13ms/step - loss: 0.0314 - val_loss: 0.0365\n",
            "Epoch 43/100\n",
            "28/28 [==============================] - 0s 14ms/step - loss: 0.0320 - val_loss: 0.0366\n",
            "Epoch 44/100\n",
            "28/28 [==============================] - 0s 14ms/step - loss: 0.0327 - val_loss: 0.0363\n",
            "Epoch 45/100\n",
            "28/28 [==============================] - 0s 15ms/step - loss: 0.0312 - val_loss: 0.0362\n",
            "Epoch 46/100\n",
            "28/28 [==============================] - 0s 15ms/step - loss: 0.0321 - val_loss: 0.0364\n",
            "Epoch 47/100\n",
            "28/28 [==============================] - 0s 15ms/step - loss: 0.0328 - val_loss: 0.0365\n",
            "Epoch 48/100\n",
            "28/28 [==============================] - 0s 13ms/step - loss: 0.0319 - val_loss: 0.0365\n",
            "Epoch 49/100\n",
            "28/28 [==============================] - 0s 13ms/step - loss: 0.0319 - val_loss: 0.0364\n",
            "Epoch 50/100\n",
            "28/28 [==============================] - 0s 14ms/step - loss: 0.0323 - val_loss: 0.0364\n",
            "Epoch 51/100\n",
            "28/28 [==============================] - 0s 13ms/step - loss: 0.0326 - val_loss: 0.0365\n",
            "Epoch 52/100\n",
            "28/28 [==============================] - 0s 13ms/step - loss: 0.0324 - val_loss: 0.0362\n",
            "Epoch 53/100\n",
            "28/28 [==============================] - 0s 16ms/step - loss: 0.0322 - val_loss: 0.0367\n",
            "Epoch 54/100\n",
            "28/28 [==============================] - 0s 15ms/step - loss: 0.0322 - val_loss: 0.0368\n",
            "Epoch 55/100\n",
            "28/28 [==============================] - 0s 15ms/step - loss: 0.0320 - val_loss: 0.0365\n",
            "Epoch 56/100\n",
            "28/28 [==============================] - 0s 13ms/step - loss: 0.0318 - val_loss: 0.0364\n",
            "Epoch 57/100\n",
            "28/28 [==============================] - 0s 13ms/step - loss: 0.0331 - val_loss: 0.0370\n",
            "Epoch 58/100\n",
            "28/28 [==============================] - 0s 14ms/step - loss: 0.0324 - val_loss: 0.0366\n",
            "Epoch 59/100\n",
            "28/28 [==============================] - 0s 13ms/step - loss: 0.0322 - val_loss: 0.0369\n",
            "Epoch 60/100\n",
            "28/28 [==============================] - 0s 13ms/step - loss: 0.0317 - val_loss: 0.0367\n",
            "Epoch 61/100\n",
            "28/28 [==============================] - 0s 16ms/step - loss: 0.0313 - val_loss: 0.0369\n",
            "Epoch 62/100\n",
            "28/28 [==============================] - 0s 15ms/step - loss: 0.0325 - val_loss: 0.0371\n",
            "Epoch 63/100\n",
            "28/28 [==============================] - 0s 14ms/step - loss: 0.0314 - val_loss: 0.0367\n",
            "Epoch 64/100\n",
            "28/28 [==============================] - 0s 14ms/step - loss: 0.0330 - val_loss: 0.0369\n",
            "Epoch 65/100\n",
            "28/28 [==============================] - 0s 14ms/step - loss: 0.0316 - val_loss: 0.0368\n",
            "Epoch 66/100\n",
            "28/28 [==============================] - 0s 15ms/step - loss: 0.0324 - val_loss: 0.0369\n",
            "Epoch 67/100\n",
            "28/28 [==============================] - 0s 13ms/step - loss: 0.0316 - val_loss: 0.0368\n",
            "Epoch 68/100\n",
            "28/28 [==============================] - 0s 14ms/step - loss: 0.0317 - val_loss: 0.0365\n",
            "Epoch 69/100\n",
            "28/28 [==============================] - 0s 14ms/step - loss: 0.0315 - val_loss: 0.0366\n",
            "Epoch 70/100\n",
            "28/28 [==============================] - 0s 15ms/step - loss: 0.0316 - val_loss: 0.0367\n",
            "Epoch 71/100\n",
            "28/28 [==============================] - 0s 13ms/step - loss: 0.0319 - val_loss: 0.0369\n",
            "Epoch 72/100\n",
            "28/28 [==============================] - 0s 13ms/step - loss: 0.0322 - val_loss: 0.0368\n",
            "Epoch 73/100\n",
            "28/28 [==============================] - 0s 14ms/step - loss: 0.0316 - val_loss: 0.0368\n",
            "Epoch 74/100\n",
            "28/28 [==============================] - 0s 15ms/step - loss: 0.0321 - val_loss: 0.0366\n",
            "Epoch 75/100\n",
            "28/28 [==============================] - 0s 14ms/step - loss: 0.0320 - val_loss: 0.0368\n",
            "Epoch 76/100\n",
            "28/28 [==============================] - 0s 15ms/step - loss: 0.0318 - val_loss: 0.0367\n",
            "Epoch 77/100\n",
            "28/28 [==============================] - 0s 14ms/step - loss: 0.0323 - val_loss: 0.0368\n",
            "Epoch 78/100\n",
            "28/28 [==============================] - 0s 14ms/step - loss: 0.0319 - val_loss: 0.0368\n",
            "Epoch 79/100\n",
            "28/28 [==============================] - 0s 17ms/step - loss: 0.0318 - val_loss: 0.0367\n",
            "Epoch 80/100\n",
            "28/28 [==============================] - 0s 15ms/step - loss: 0.0321 - val_loss: 0.0367\n",
            "Epoch 81/100\n",
            "28/28 [==============================] - 0s 13ms/step - loss: 0.0322 - val_loss: 0.0369\n",
            "Epoch 82/100\n",
            "28/28 [==============================] - 0s 13ms/step - loss: 0.0326 - val_loss: 0.0368\n",
            "Epoch 83/100\n",
            "28/28 [==============================] - 0s 15ms/step - loss: 0.0314 - val_loss: 0.0371\n",
            "Epoch 84/100\n",
            "28/28 [==============================] - 0s 16ms/step - loss: 0.0322 - val_loss: 0.0371\n",
            "Epoch 85/100\n",
            "28/28 [==============================] - 0s 14ms/step - loss: 0.0316 - val_loss: 0.0367\n",
            "Epoch 86/100\n",
            "28/28 [==============================] - 0s 16ms/step - loss: 0.0315 - val_loss: 0.0368\n",
            "Epoch 87/100\n",
            "28/28 [==============================] - 0s 13ms/step - loss: 0.0313 - val_loss: 0.0371\n",
            "Epoch 88/100\n",
            "28/28 [==============================] - 0s 14ms/step - loss: 0.0310 - val_loss: 0.0369\n",
            "Epoch 89/100\n",
            "28/28 [==============================] - 0s 13ms/step - loss: 0.0321 - val_loss: 0.0370\n",
            "Epoch 90/100\n",
            "28/28 [==============================] - 0s 15ms/step - loss: 0.0318 - val_loss: 0.0369\n",
            "Epoch 91/100\n",
            "28/28 [==============================] - 0s 13ms/step - loss: 0.0306 - val_loss: 0.0368\n",
            "Epoch 92/100\n",
            "28/28 [==============================] - 0s 13ms/step - loss: 0.0318 - val_loss: 0.0368\n",
            "Epoch 93/100\n",
            "28/28 [==============================] - 0s 14ms/step - loss: 0.0326 - val_loss: 0.0368\n",
            "Epoch 94/100\n",
            "28/28 [==============================] - 0s 13ms/step - loss: 0.0325 - val_loss: 0.0368\n",
            "Epoch 95/100\n",
            "28/28 [==============================] - 0s 13ms/step - loss: 0.0323 - val_loss: 0.0366\n",
            "Epoch 96/100\n",
            "28/28 [==============================] - 0s 14ms/step - loss: 0.0321 - val_loss: 0.0367\n",
            "Epoch 97/100\n",
            "28/28 [==============================] - 0s 13ms/step - loss: 0.0309 - val_loss: 0.0369\n",
            "Epoch 98/100\n",
            "28/28 [==============================] - 0s 13ms/step - loss: 0.0322 - val_loss: 0.0371\n",
            "Epoch 99/100\n",
            "28/28 [==============================] - 0s 14ms/step - loss: 0.0324 - val_loss: 0.0370\n",
            "Epoch 100/100\n",
            "28/28 [==============================] - 0s 14ms/step - loss: 0.0317 - val_loss: 0.0369\n"
          ],
          "name": "stdout"
        }
      ]
    },
    {
      "cell_type": "code",
      "metadata": {
        "colab": {
          "base_uri": "https://localhost:8080/",
          "height": 295
        },
        "id": "z6joqb9RPa0K",
        "outputId": "808306e4-a688-41f1-ee99-b42a9d8e8303"
      },
      "source": [
        "def visualize_loss(history, title):\n",
        "    '''\n",
        "    Helper function to plot the train and validation losses\n",
        "\n",
        "    history: history of the training returned by the fit() function of Keras\n",
        "    title: Title string\n",
        "    '''\n",
        "    loss = history.history[\"loss\"]\n",
        "    val_loss = history.history[\"val_loss\"]\n",
        "    epochs = range(len(loss))\n",
        "    plt.figure()\n",
        "    plt.plot(epochs, loss, \"b\", label=\"Training loss\")\n",
        "    plt.plot(epochs, val_loss, \"r\", label=\"Validation loss\")\n",
        "    plt.title(title)\n",
        "    plt.xlabel(\"Epochs\")\n",
        "    plt.ylabel(\"Loss\")\n",
        "    plt.legend()\n",
        "    plt.show()\n",
        "\n",
        "\n",
        "visualize_loss(history, \"Training and Validation Loss\")"
      ],
      "execution_count": 56,
      "outputs": [
        {
          "output_type": "display_data",
          "data": {
            "image/png": "[encoded data removed]",
            "text/plain": [
              "<Figure size 432x288 with 1 Axes>"
            ]
          },
          "metadata": {
            "tags": [],
            "needs_background": "light"
          }
        }
      ]
    },
    {
      "cell_type": "markdown",
      "metadata": {
        "id": "GRdbrLWEDc9Q"
      },
      "source": [
        "It appears that our model fits after roughly 10 epochs and there is no sign of overfitting in the graph\n",
        "\n",
        "Let's see how the predictions look like in general. "
      ]
    },
    {
      "cell_type": "code",
      "metadata": {
        "colab": {
          "base_uri": "https://localhost:8080/",
          "height": 545
        },
        "id": "Zyam2fZ3T5EX",
        "outputId": "cb8ccc97-0f84-4b2b-d7e1-5ff56c529a3d"
      },
      "source": [
        "def plot_forecast(x, y, title):\n",
        "    '''\n",
        "    Helper function to plot observed values and forecasts\n",
        "    \n",
        "    x: 3D np.array to predict\n",
        "    y: true labels\n",
        "    title: title string\n",
        "    '''\n",
        "    preds = nn_model.predict(x)\n",
        "    plt.plot(y, c='g', label='Observed')\n",
        "    plt.plot(preds, c='r', label='Predicted')\n",
        "    plt.title(title)\n",
        "    plt.legend()\n",
        "    plt.show()\n",
        "\n",
        "\n",
        "plot_forecast(x_train_rnn, y_train_rnn, 'Train Forecast')\n",
        "plot_forecast(x_val_rnn, y_val_rnn, 'Validation Forecast')"
      ],
      "execution_count": 57,
      "outputs": [
        {
          "output_type": "display_data",
          "data": {
            "image/png": "[encoded data removed]",
            "text/plain": [
              "<Figure size 432x288 with 1 Axes>"
            ]
          },
          "metadata": {
            "tags": [],
            "needs_background": "light"
          }
        },
        {
          "output_type": "display_data",
          "data": {
            "image/png": "[encoded data removed]",
            "text/plain": [
              "<Figure size 432x288 with 1 Axes>"
            ]
          },
          "metadata": {
            "tags": [],
            "needs_background": "light"
          }
        }
      ]
    },
    {
      "cell_type": "markdown",
      "metadata": {
        "id": "lOrkSKrAEcQl"
      },
      "source": [
        "The model does an alright job predicting the values above 0, but there seems to be an underfitting for negative values. The magnitudes are way lower than actual values."
      ]
    },
    {
      "cell_type": "markdown",
      "metadata": {
        "id": "6ABPCga2EtFJ"
      },
      "source": [
        "Now that we have trained our RNN and the classifier, we can predict for the target day. \n",
        "\n",
        "To do that, we have to convert back the values predicted by the RNN to their original values, which means that we have to inverse transform them. "
      ]
    },
    {
      "cell_type": "markdown",
      "metadata": {
        "id": "PhHoFurRyBOc"
      },
      "source": [
        "### Predict the Target Day"
      ]
    },
    {
      "cell_type": "markdown",
      "metadata": {
        "id": "twlPHh-pHBYH"
      },
      "source": [
        "In order for our predictions to make sense, we have to revert them to their original values. Because, right now our RNN model outputs the predicted change from previous sample. However, our classifier needs the exact value of `mean_visibility`.\n",
        "\n",
        "We can do this in four steps:\n",
        "\n",
        "1.   Append the predictions to the end of the given time series windows\n",
        "2.   Inverse the MinMax Scaling\n",
        "3.   Replace the first values of given samples with their original values\n",
        "4.   Inverse the difference transformation by calculating cumulative sums for each sample\n",
        "\n"
      ]
    },
    {
      "cell_type": "code",
      "metadata": {
        "id": "O8lQO_ZNoi2E"
      },
      "source": [
        "def revert_to_original(x, preds, start_values):\n",
        "    '''\n",
        "    Reverts the given values by first inverse transforming according to the MinMax Sclaer,\n",
        "    then calculates cumulative sum to convert back to the original states\n",
        "    \n",
        "    x: 3D np.array \n",
        "    preds: array of predictions\n",
        "    start_values: first values are needed to calculate cumulative sums,\n",
        "                  as the values of next observations will be added to that value\n",
        "    '''\n",
        "    \n",
        "    # Empty array of shape (batch_size, window_size+1, n_features)\n",
        "    # +1 in the second dimension is tha appended prediction to the given window\n",
        "    x_appended = np.empty((x.shape[0], x.shape[1]+1, x.shape[2]))\n",
        "    \n",
        "    for i in range(len(x)):\n",
        "        # Concatenate x and the respective prediction for that x\n",
        "        x_appended[i] = np.concatenate((x[i], preds[i].reshape(-1,1)), axis=0)\n",
        "        # Invese transform \n",
        "        x_appended[i]  = minmax_scaler.inverse_transform(x_appended[i] )\n",
        "    \n",
        "\n",
        "    # Replace start values\n",
        "    for i in range(len(x_appended)):\n",
        "        x_appended[i, 0] = start_values[i]\n",
        "        # Move on by adding the values to the original starting value\n",
        "        x_appended[i] = np.cumsum(x_appended[i]).reshape(-1, 1)\n",
        "    \n",
        "    return x_appended"
      ],
      "execution_count": 58,
      "outputs": []
    },
    {
      "cell_type": "code",
      "metadata": {
        "id": "NZ4xC5VYpo_K"
      },
      "source": [
        "# Predict values for the target date\n",
        "preds_test = nn_model.predict(x_test_rnn)"
      ],
      "execution_count": null,
      "outputs": []
    },
    {
      "cell_type": "code",
      "metadata": {
        "id": "dkoLD2z1QEm0"
      },
      "source": [
        "# Get the original starting values for test set by looking at the rows \n",
        "# where date is one day after the validation set ends, i.e. first day of test set\n",
        "test_start_values = test_data_clf.loc[test_data_clf['date'] == val_end_date + timedelta(1), 'mean_visibility'].values"
      ],
      "execution_count": 62,
      "outputs": []
    },
    {
      "cell_type": "code",
      "metadata": {
        "colab": {
          "base_uri": "https://localhost:8080/"
        },
        "id": "WfMYqOxIQCgq",
        "outputId": "1b11a8b1-48da-463e-a0ce-6be39e66a67a"
      },
      "source": [
        "# Revert them to original\n",
        "preds_test_reverted = revert_to_original(x_test_rnn, preds_test, test_start_values)\n",
        "preds_test_reverted.shape"
      ],
      "execution_count": 63,
      "outputs": [
        {
          "output_type": "execute_result",
          "data": {
            "text/plain": [
              "(10, 61, 1)"
            ]
          },
          "metadata": {
            "tags": []
          },
          "execution_count": 63
        }
      ]
    },
    {
      "cell_type": "markdown",
      "metadata": {
        "id": "XnrtgmAgIQTy"
      },
      "source": [
        "As we wanted, now we have values for 61 days including the forecasted values at the end"
      ]
    },
    {
      "cell_type": "code",
      "metadata": {
        "colab": {
          "base_uri": "https://localhost:8080/",
          "height": 281
        },
        "id": "zGr4y8ULuaRm",
        "outputId": "9e4be55e-79f9-482e-e1c9-2ecadf6cc274"
      },
      "source": [
        "plt.plot(preds_test_reverted[0])\n",
        "plt.title('Graph of the First Sample from the Test Set After Reverting Back')\n",
        "plt.show()"
      ],
      "execution_count": 64,
      "outputs": [
        {
          "output_type": "display_data",
          "data": {
            "image/png": "[encoded data removed]",
            "text/plain": [
              "<Figure size 432x288 with 1 Axes>"
            ]
          },
          "metadata": {
            "tags": [],
            "needs_background": "light"
          }
        }
      ]
    },
    {
      "cell_type": "markdown",
      "metadata": {
        "id": "REUcqnxCIfC4"
      },
      "source": [
        "Now we can prepare our input for the linear classifier"
      ]
    },
    {
      "cell_type": "code",
      "metadata": {
        "colab": {
          "base_uri": "https://localhost:8080/",
          "height": 359
        },
        "id": "j_nokranvCe4",
        "outputId": "7c39c5e0-95a6-48f9-a1ba-65a3b4033b8f"
      },
      "source": [
        "# Get the relevant rows for the station information that will be used for making the prediction\n",
        "test_data_on_target_day = test_data_clf.loc[test_data_clf['date'] == target_date, stations_to_keep]\n",
        "\n",
        "# Insert the predicted value to the DataFrame\n",
        "test_data_on_target_day.insert(0, \"mean_visibility_predicted\", preds_test_reverted[:, -1], True)\n",
        "test_data_on_target_day"
      ],
      "execution_count": 65,
      "outputs": [
        {
          "output_type": "execute_result",
          "data": {
            "text/html": [
              "<div>\n",
              "<style scoped>\n",
              "    .dataframe tbody tr th:only-of-type {\n",
              "        vertical-align: middle;\n",
              "    }\n",
              "\n",
              "    .dataframe tbody tr th {\n",
              "        vertical-align: top;\n",
              "    }\n",
              "\n",
              "    .dataframe thead th {\n",
              "        text-align: right;\n",
              "    }\n",
              "</style>\n",
              "<table border=\"1\" class=\"dataframe\">\n",
              "  <thead>\n",
              "    <tr style=\"text-align: right;\">\n",
              "      <th></th>\n",
              "      <th>mean_visibility_predicted</th>\n",
              "      <th>725300</th>\n",
              "      <th>725305</th>\n",
              "      <th>725314</th>\n",
              "      <th>725315</th>\n",
              "      <th>725316</th>\n",
              "      <th>725317</th>\n",
              "      <th>725320</th>\n",
              "      <th>725326</th>\n",
              "      <th>725327</th>\n",
              "      <th>725330</th>\n",
              "    </tr>\n",
              "  </thead>\n",
              "  <tbody>\n",
              "    <tr>\n",
              "      <th>1920</th>\n",
              "      <td>0.209440</td>\n",
              "      <td>1</td>\n",
              "      <td>0</td>\n",
              "      <td>0</td>\n",
              "      <td>0</td>\n",
              "      <td>0</td>\n",
              "      <td>0</td>\n",
              "      <td>0</td>\n",
              "      <td>0</td>\n",
              "      <td>0</td>\n",
              "      <td>0</td>\n",
              "    </tr>\n",
              "    <tr>\n",
              "      <th>3850</th>\n",
              "      <td>0.192901</td>\n",
              "      <td>0</td>\n",
              "      <td>1</td>\n",
              "      <td>0</td>\n",
              "      <td>0</td>\n",
              "      <td>0</td>\n",
              "      <td>0</td>\n",
              "      <td>0</td>\n",
              "      <td>0</td>\n",
              "      <td>0</td>\n",
              "      <td>0</td>\n",
              "    </tr>\n",
              "    <tr>\n",
              "      <th>5756</th>\n",
              "      <td>0.395320</td>\n",
              "      <td>0</td>\n",
              "      <td>0</td>\n",
              "      <td>1</td>\n",
              "      <td>0</td>\n",
              "      <td>0</td>\n",
              "      <td>0</td>\n",
              "      <td>0</td>\n",
              "      <td>0</td>\n",
              "      <td>0</td>\n",
              "      <td>0</td>\n",
              "    </tr>\n",
              "    <tr>\n",
              "      <th>7686</th>\n",
              "      <td>0.114416</td>\n",
              "      <td>0</td>\n",
              "      <td>0</td>\n",
              "      <td>0</td>\n",
              "      <td>1</td>\n",
              "      <td>0</td>\n",
              "      <td>0</td>\n",
              "      <td>0</td>\n",
              "      <td>0</td>\n",
              "      <td>0</td>\n",
              "      <td>0</td>\n",
              "    </tr>\n",
              "    <tr>\n",
              "      <th>9616</th>\n",
              "      <td>0.464567</td>\n",
              "      <td>0</td>\n",
              "      <td>0</td>\n",
              "      <td>0</td>\n",
              "      <td>0</td>\n",
              "      <td>1</td>\n",
              "      <td>0</td>\n",
              "      <td>0</td>\n",
              "      <td>0</td>\n",
              "      <td>0</td>\n",
              "      <td>0</td>\n",
              "    </tr>\n",
              "    <tr>\n",
              "      <th>11544</th>\n",
              "      <td>0.498547</td>\n",
              "      <td>0</td>\n",
              "      <td>0</td>\n",
              "      <td>0</td>\n",
              "      <td>0</td>\n",
              "      <td>0</td>\n",
              "      <td>1</td>\n",
              "      <td>0</td>\n",
              "      <td>0</td>\n",
              "      <td>0</td>\n",
              "      <td>0</td>\n",
              "    </tr>\n",
              "    <tr>\n",
              "      <th>13474</th>\n",
              "      <td>0.389608</td>\n",
              "      <td>0</td>\n",
              "      <td>0</td>\n",
              "      <td>0</td>\n",
              "      <td>0</td>\n",
              "      <td>0</td>\n",
              "      <td>0</td>\n",
              "      <td>1</td>\n",
              "      <td>0</td>\n",
              "      <td>0</td>\n",
              "      <td>0</td>\n",
              "    </tr>\n",
              "    <tr>\n",
              "      <th>15365</th>\n",
              "      <td>0.277818</td>\n",
              "      <td>0</td>\n",
              "      <td>0</td>\n",
              "      <td>0</td>\n",
              "      <td>0</td>\n",
              "      <td>0</td>\n",
              "      <td>0</td>\n",
              "      <td>0</td>\n",
              "      <td>1</td>\n",
              "      <td>0</td>\n",
              "      <td>0</td>\n",
              "    </tr>\n",
              "    <tr>\n",
              "      <th>17252</th>\n",
              "      <td>-0.263442</td>\n",
              "      <td>0</td>\n",
              "      <td>0</td>\n",
              "      <td>0</td>\n",
              "      <td>0</td>\n",
              "      <td>0</td>\n",
              "      <td>0</td>\n",
              "      <td>0</td>\n",
              "      <td>0</td>\n",
              "      <td>1</td>\n",
              "      <td>0</td>\n",
              "    </tr>\n",
              "    <tr>\n",
              "      <th>19181</th>\n",
              "      <td>-0.015103</td>\n",
              "      <td>0</td>\n",
              "      <td>0</td>\n",
              "      <td>0</td>\n",
              "      <td>0</td>\n",
              "      <td>0</td>\n",
              "      <td>0</td>\n",
              "      <td>0</td>\n",
              "      <td>0</td>\n",
              "      <td>0</td>\n",
              "      <td>1</td>\n",
              "    </tr>\n",
              "  </tbody>\n",
              "</table>\n",
              "</div>"
            ],
            "text/plain": [
              "       mean_visibility_predicted  725300  725305  ...  725326  725327  725330\n",
              "1920                    0.209440       1       0  ...       0       0       0\n",
              "3850                    0.192901       0       1  ...       0       0       0\n",
              "5756                    0.395320       0       0  ...       0       0       0\n",
              "7686                    0.114416       0       0  ...       0       0       0\n",
              "9616                    0.464567       0       0  ...       0       0       0\n",
              "11544                   0.498547       0       0  ...       0       0       0\n",
              "13474                   0.389608       0       0  ...       0       0       0\n",
              "15365                   0.277818       0       0  ...       1       0       0\n",
              "17252                  -0.263442       0       0  ...       0       1       0\n",
              "19181                  -0.015103       0       0  ...       0       0       1\n",
              "\n",
              "[10 rows x 11 columns]"
            ]
          },
          "metadata": {
            "tags": []
          },
          "execution_count": 65
        }
      ]
    },
    {
      "cell_type": "code",
      "metadata": {
        "id": "9tzR2gi58IRJ"
      },
      "source": [
        "# Get the predictions for the target day\n",
        "snow_preds = clf.predict(test_data_on_target_day)"
      ],
      "execution_count": 66,
      "outputs": []
    },
    {
      "cell_type": "markdown",
      "metadata": {
        "id": "5J2BZeoII0ay"
      },
      "source": [
        "Let's show the actual values for the target day and the predictions from our model together"
      ]
    },
    {
      "cell_type": "code",
      "metadata": {
        "colab": {
          "base_uri": "https://localhost:8080/",
          "height": 359
        },
        "id": "PKqKlHVhwovT",
        "outputId": "b34809dc-d617-4560-cd4b-7231e5ecbe2c"
      },
      "source": [
        "target_df = test_data[test_data['date']==target_date]\n",
        "target_df.insert(4, \"snow_forecasted\", snow_preds, True)\n",
        "target_df"
      ],
      "execution_count": 67,
      "outputs": [
        {
          "output_type": "execute_result",
          "data": {
            "text/html": [
              "<div>\n",
              "<style scoped>\n",
              "    .dataframe tbody tr th:only-of-type {\n",
              "        vertical-align: middle;\n",
              "    }\n",
              "\n",
              "    .dataframe tbody tr th {\n",
              "        vertical-align: top;\n",
              "    }\n",
              "\n",
              "    .dataframe thead th {\n",
              "        text-align: right;\n",
              "    }\n",
              "</style>\n",
              "<table border=\"1\" class=\"dataframe\">\n",
              "  <thead>\n",
              "    <tr style=\"text-align: right;\">\n",
              "      <th></th>\n",
              "      <th>date</th>\n",
              "      <th>station_number</th>\n",
              "      <th>mean_visibility</th>\n",
              "      <th>snow</th>\n",
              "      <th>snow_forecasted</th>\n",
              "    </tr>\n",
              "  </thead>\n",
              "  <tbody>\n",
              "    <tr>\n",
              "      <th>1920</th>\n",
              "      <td>2010-04-09</td>\n",
              "      <td>725300</td>\n",
              "      <td>0.756482</td>\n",
              "      <td>False</td>\n",
              "      <td>0</td>\n",
              "    </tr>\n",
              "    <tr>\n",
              "      <th>3850</th>\n",
              "      <td>2010-04-09</td>\n",
              "      <td>725305</td>\n",
              "      <td>0.756482</td>\n",
              "      <td>False</td>\n",
              "      <td>0</td>\n",
              "    </tr>\n",
              "    <tr>\n",
              "      <th>5756</th>\n",
              "      <td>2010-04-09</td>\n",
              "      <td>725314</td>\n",
              "      <td>0.756482</td>\n",
              "      <td>False</td>\n",
              "      <td>0</td>\n",
              "    </tr>\n",
              "    <tr>\n",
              "      <th>7686</th>\n",
              "      <td>2010-04-09</td>\n",
              "      <td>725315</td>\n",
              "      <td>0.527132</td>\n",
              "      <td>False</td>\n",
              "      <td>0</td>\n",
              "    </tr>\n",
              "    <tr>\n",
              "      <th>9616</th>\n",
              "      <td>2010-04-09</td>\n",
              "      <td>725316</td>\n",
              "      <td>0.756482</td>\n",
              "      <td>False</td>\n",
              "      <td>0</td>\n",
              "    </tr>\n",
              "    <tr>\n",
              "      <th>11544</th>\n",
              "      <td>2010-04-09</td>\n",
              "      <td>725317</td>\n",
              "      <td>0.756482</td>\n",
              "      <td>False</td>\n",
              "      <td>0</td>\n",
              "    </tr>\n",
              "    <tr>\n",
              "      <th>13474</th>\n",
              "      <td>2010-04-09</td>\n",
              "      <td>725320</td>\n",
              "      <td>0.756482</td>\n",
              "      <td>False</td>\n",
              "      <td>0</td>\n",
              "    </tr>\n",
              "    <tr>\n",
              "      <th>15365</th>\n",
              "      <td>2010-04-09</td>\n",
              "      <td>725326</td>\n",
              "      <td>0.756482</td>\n",
              "      <td>False</td>\n",
              "      <td>0</td>\n",
              "    </tr>\n",
              "    <tr>\n",
              "      <th>17252</th>\n",
              "      <td>2010-04-09</td>\n",
              "      <td>725327</td>\n",
              "      <td>0.469795</td>\n",
              "      <td>False</td>\n",
              "      <td>0</td>\n",
              "    </tr>\n",
              "    <tr>\n",
              "      <th>19181</th>\n",
              "      <td>2010-04-09</td>\n",
              "      <td>725330</td>\n",
              "      <td>0.756482</td>\n",
              "      <td>False</td>\n",
              "      <td>0</td>\n",
              "    </tr>\n",
              "  </tbody>\n",
              "</table>\n",
              "</div>"
            ],
            "text/plain": [
              "             date  station_number  mean_visibility   snow  snow_forecasted\n",
              "1920   2010-04-09          725300         0.756482  False                0\n",
              "3850   2010-04-09          725305         0.756482  False                0\n",
              "5756   2010-04-09          725314         0.756482  False                0\n",
              "7686   2010-04-09          725315         0.527132  False                0\n",
              "9616   2010-04-09          725316         0.756482  False                0\n",
              "11544  2010-04-09          725317         0.756482  False                0\n",
              "13474  2010-04-09          725320         0.756482  False                0\n",
              "15365  2010-04-09          725326         0.756482  False                0\n",
              "17252  2010-04-09          725327         0.469795  False                0\n",
              "19181  2010-04-09          725330         0.756482  False                0"
            ]
          },
          "metadata": {
            "tags": []
          },
          "execution_count": 67
        }
      ]
    },
    {
      "cell_type": "markdown",
      "metadata": {
        "id": "2w2gsyV7Q4ov"
      },
      "source": [
        "Our model successfully predicts correct for all stations in this case."
      ]
    },
    {
      "cell_type": "markdown",
      "metadata": {
        "id": "QXfT6y6wJDhf"
      },
      "source": [
        "## Possible Improvements and Final Remarks"
      ]
    },
    {
      "cell_type": "markdown",
      "metadata": {
        "id": "pAk2hYIeRFDA"
      },
      "source": [
        "If I were to invest more time on this project, I would definitely make use of the complete data, not a small subset. This might help the models generalize the data better. In this case, it might not be very useful to use a separate classifier since our data would be vastly sparse (more than 9000 dummy variables for one feature). \n",
        "\n",
        "One alternative approach in this situation might be to build a RNN with two heads. The first head will be similar to this one, which will extract time dependent features. The other head will be an auto-encoder, that takes the one-hot encoded station information as input, and will reduce the dimensionality of it. Then the output of both heads will be concatenated to predict the snow at the end.\n",
        "\n",
        "One other thing is that, during the feauture selection, I only considered the relationship between each feature and the target value. However, one might wonder that what if there are some hidden relationships in the data where a set of independent variables can have more prediction power than a single feature. To answer this question, I implemented a Random Forest before the linear classifier, using all the features, and achieved similar results on validation and test sets. Although it achieved almost perfect scores on the train set, that was apparently the result of overfitting.\n",
        "\n",
        "Obviously the performance of the classifier and the RNN in this solution could be further improved as well, as they are not the perfect models, by putting more effort on issues like more detailed feature engineering, model architecture search, cross validation and hyper-parameter optimization. "
      ]
    }
  ]
}